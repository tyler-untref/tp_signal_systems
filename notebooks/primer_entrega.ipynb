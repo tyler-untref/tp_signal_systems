{
 "cells": [
  {
   "cell_type": "markdown",
   "metadata": {},
   "source": [
    "# Trabajo Practico - Desarrollo de software para el cálculo de parámetros acústicos ISO 3382 (1er entrega)\n",
    "\n",
    "## Fecha de entrega"
   ]
  },
  {
   "cell_type": "markdown",
   "metadata": {},
   "source": [
    "*/09/2022*"
   ]
  },
  {
   "cell_type": "markdown",
   "metadata": {
    "tags": []
   },
   "source": [
    "## Integrantes"
   ]
  },
  {
   "cell_type": "markdown",
   "metadata": {},
   "source": [
    "* <Tyler, Cruz>\n",
    "* <Santiago, Franco>\n",
    "* <Felipe, Merlo>"
   ]
  },
  {
   "cell_type": "markdown",
   "metadata": {},
   "source": [
    "## Aspectos generales del notebook\n",
    "\n",
    "* Todas las funciones deben contar con su [docstring](https://realpython.com/documenting-python-code/#docstring-types), como figura en la funcion de ejemplo (`ruidoRosa_voss`).\n",
    "* Todos los gráficos deben tener correctamente etiquetados los ejes.\n",
    "* Enviar el notebook (.ipynb) completado y con las celdas ejecutas a myommi@untref.edu.ar.\n",
    "* Todas las señales de audio deben ser grabadas en formato .wav en la misma función que las genera."
   ]
  },
  {
   "cell_type": "markdown",
   "metadata": {},
   "source": [
    "## Librerias utilizadas\n",
    "Agregar todas las librerias utilizadas, algunas a modo de ejemplo:"
   ]
  },
  {
   "cell_type": "code",
   "execution_count": 2,
   "metadata": {},
   "outputs": [],
   "source": [
    "import numpy as np\n",
    "import pandas as pd\n",
    "import matplotlib.pyplot as plt\n",
    "import soundfile as sf \n",
    "import sounddevice as sd"
   ]
  },
  {
   "cell_type": "markdown",
   "metadata": {},
   "source": [
    "## Función de sintetización de ruido rosa\n",
    "El ruido rosa o ruido $\\frac{1}{\\sqrt{f}}$ , dónde $f$ denota frecuencia en Hz, es un ruido con una distribución de frecuencias tal que su densidad espectral de potencia es proporcional a la inversa de la frecuencia. Esto implica que su nivel, por bandas de tercio de octava, es constante. El nivel del ruido rosa por intervalo fijo de frecuencias va decayendo a razón de 3 dB/octava, de forma no lineal aunque las frecuencias se representan en un eje lineal.\n",
    "\n",
    "![Espectro del ruido rosa](../img/image44.png)\n",
    "<center><b>Fig 1.</b> Espectro del ruido rosa.</center>\n",
    "\n",
    "Se adjunta a continuación una función que devuelva un ruido rosa sintetizado a partir del algoritmo de Voss y Clarke (pueden encontrar mas informacion en [este enlace](https://www.dsprelated.com/showabstract/3933.php) y en [este notebook](https://github.com/AllenDowney/ThinkDSP/blob/master/code/voss.ipynb)). \n",
    "\n",
    "**Consigna:** modificar la función original para que reciba como parametro la duración del ruido en segundos $t$ y como parametro opcional la frecuencia de muestreo $fs$ (Ayuda: la longitud de la señal sera el producto entre ambos). La función debe guardar el archivo de audio .wav de la señal generada y devolver el vector de datos de la señal."
   ]
  },
  {
   "cell_type": "code",
   "execution_count": 3,
   "metadata": {},
   "outputs": [],
   "source": [
    "def ruidoRosa_voss(t, ncols=16, fs=44100):\n",
    "    \"\"\"\n",
    "    Genera ruido rosa utilizando el algoritmo de Voss-McCartney (https://www.dsprelated.com/showabstract/3933.php).\n",
    "    \n",
    "    .. Nota:: si 'ruido_rosa.wav' existe, este será sobreescrito.\n",
    "    \n",
    "    Parametros\n",
    "    ----------\n",
    "    t : float\n",
    "        Valor temporal en segundos, este determina la duración del ruido generado.\n",
    "    ncols: int\n",
    "        Determina el número de fuentes a aleatorias a agregar.\n",
    "    fs: int\n",
    "        Frecuencia de muestreo en Hz de la señal. Por defecto el valor es 44100 Hz.\n",
    "    \n",
    "    returns: NumPy array\n",
    "        Datos de la señal generada.\n",
    "    \n",
    "    Ejemplo\n",
    "    -------\n",
    "    Generar un `.wav` desde un numpy array de 10 segundos con ruido rosa a una \n",
    "    frecuencia de muestreo de 44100 Hz.\n",
    "    \n",
    "        import numpy as np\n",
    "        import pandas as pd\n",
    "        import soundfile as sf\n",
    "        \n",
    "        ruidoRosa_voss(10)\n",
    "    \"\"\"\n",
    "    \n",
    "    nrows = int(float(t)*fs)\n",
    "\n",
    "    array = np.full((nrows, ncols), np.nan)\n",
    "    array[0, :] = np.random.random(ncols)\n",
    "    array[:, 0] = np.random.random(nrows)\n",
    "\n",
    "    # El número total de cambios es nrows\n",
    "    n = nrows\n",
    "    cols = np.random.geometric(0.5, n)\n",
    "    cols[cols >= ncols] = 0\n",
    "    rows = np.random.randint(nrows, size=n)\n",
    "    array[rows, cols] = np.random.random(n)\n",
    "\n",
    "    df = pd.DataFrame(array)\n",
    "    filled = df.fillna(method='ffill', axis=0)\n",
    "    total = filled.sum(axis=1)\n",
    "\n",
    "    # Centrado del array en 0\n",
    "    total = total - total.mean()\n",
    "\n",
    "    # Normalizado\n",
    "    valor_max = max(abs(max(total)), abs(min(total)))\n",
    "    total = total / valor_max\n",
    "\n",
    "    # Generación de archivo de audio .wav\n",
    "    sf.write('ruido_rosa.wav', total, fs)\n",
    "\n",
    "    return total"
   ]
  },
  {
   "cell_type": "markdown",
   "metadata": {},
   "source": [
    "Ejemplo\n",
    "    Generar un `.wav` desde un numpy array de 10 segundos con ruido rosa a una \n",
    "    frecuencia de muestreo de 44100 Hz."
   ]
  },
  {
   "cell_type": "code",
   "execution_count": 4,
   "metadata": {
    "tags": []
   },
   "outputs": [],
   "source": [
    "ruido_rosa = ruidoRosa_voss(10)"
   ]
  },
  {
   "cell_type": "markdown",
   "metadata": {
    "tags": []
   },
   "source": [
    "Realizar una función para visualizar el dominio temporal de la señal."
   ]
  },
  {
   "cell_type": "code",
   "execution_count": 5,
   "metadata": {
    "tags": []
   },
   "outputs": [],
   "source": [
    "def dominio_temporal(t,fs=44100):\n",
    "    \"\"\"\n",
    "    Grafica el dominio temporal del ruido rosa generado.\n",
    "    \n",
    "    Parametros\n",
    "    ----------\n",
    "    t : float\n",
    "        Valor temporal en segundos.\n",
    "    fs: int\n",
    "        Frecuencia de muestreo en Hz de la señal. Por defecto el valor es 44100 Hz.\n",
    "    \n",
    "    returns: Gráfico de la señal (ruido rosa).\n",
    "\n",
    "    Ejemplo\n",
    "    -------\n",
    "    Generar un gráfico desde una señal de ruido rosa a una \n",
    "    frecuencia de muestreo de 44100 Hz.\n",
    "    \n",
    "        import numpy as np\n",
    "        import matplotlib.pyplot as plt\n",
    "        \n",
    "        dominio_temporal(10)\n",
    "    \"\"\"\n",
    "    \n",
    "    # Eje x: tiempo\n",
    "    eje_x = np.linspace(0,t+1,t*fs)\n",
    "    plt.xlabel(\"Tiempo (s)\")\n",
    "    \n",
    "    # Eje y: amplitud normalizada\n",
    "    eje_y = ruido_rosa\n",
    "    plt.ylabel(\"Amplitud Normalizada\")\n",
    "    \n",
    "    plt.title(\"Dominio temporal de la señal\")\n",
    "    plt.plot(eje_x, eje_y, color=\"hotpink\")\n",
    "    \n",
    "    return plt.show()"
   ]
  },
  {
   "cell_type": "markdown",
   "metadata": {},
   "source": [
    "Llamar a la función."
   ]
  },
  {
   "cell_type": "code",
   "execution_count": 6,
   "metadata": {},
   "outputs": [
    {
     "data": {
      "image/png": "[encoded data removed]",
      "text/plain": [
       "<Figure size 640x480 with 1 Axes>"
      ]
     },
     "metadata": {},
     "output_type": "display_data"
    }
   ],
   "source": [
    "dominio_temporal(10)"
   ]
  },
  {
   "cell_type": "markdown",
   "metadata": {},
   "source": [
    "Graficar el dominio espectral del resultado utilizando el [software Audacity](https://www.audacityteam.org/) (Ayuda: [Plot Spectrum Audacity](https://manual.audacityteam.org/man/plot_spectrum.html))"
   ]
  },
  {
   "cell_type": "code",
   "execution_count": 7,
   "metadata": {
    "tags": []
   },
   "outputs": [
    {
     "data": {
      "image/png": "[encoded data removed]",
      "text/plain": [
       "<Figure size 640x480 with 1 Axes>"
      ]
     },
     "metadata": {},
     "output_type": "display_data"
    }
   ],
   "source": [
    "df = pd.read_csv('./pinknoise_spectrum.txt',delimiter='\\t') # Lee el archivo generado en Audacity\n",
    "\n",
    "# Eje x: frecuencia\n",
    "eje_x = df['Frequency (Hz)'] # Accede a la columna de frecuencias\n",
    "plt.xlabel('Frecuencia (Hz)')\n",
    "    \n",
    "# Eje y: nivel (dB)\n",
    "eje_y = df['Level (dB)'] # Accede a la columna de niveles\n",
    "plt.ylabel('Nivel (dB)')\n",
    "    \n",
    "plt.title('Dominio espectral de la señal')\n",
    "plt.plot(eje_x, eje_y)\n",
    "plt.show()"
   ]
  },
  {
   "cell_type": "markdown",
   "metadata": {},
   "source": [
    "Reproducir resultado."
   ]
  },
  {
   "cell_type": "code",
   "execution_count": 8,
   "metadata": {
    "tags": []
   },
   "outputs": [],
   "source": [
    "sd.play(ruido_rosa)"
   ]
  },
  {
   "cell_type": "markdown",
   "metadata": {},
   "source": [
    "## Funcion de generación de sine sweep logaritmico + filtro inverso\n",
    "El sine sweep es el método más indicado para generar el impulso por medio de la convolución (Nikolić, I., and O. H. Bjor, 2003). Dado que métodos tales como: explosión de globo, aplauso, disparo con pistola se salva, paper gun ([Paper Popper](https://en.wikipedia.org/wiki/Paper_popper)), golpe entre maderas, petardos, entre otros, carecen de reproducibilidad. Esto es debido a su nivel sonoro, duración y características espectrales, además de una muy baja relación señal ruido, la cual difícilmente se solucione filtrando o promediando con muchas mediciones. Comencemos por ver cómo generar el sine sweep logarítmico $x(t)$ que posee la siguiente forma:\n",
    "\n",
    "\\begin{equation}\n",
    "f(x) = \\sin[\\theta(t)]= \\sin[K (e^\\frac{t}{L} - 1) ]\n",
    "\\tag{1}\n",
    "\\end{equation}\n",
    "\n",
    "Donde:\n",
    "\n",
    "\\begin{equation}\n",
    "K = \\frac{T w_{1}}{R}\n",
    "\\end{equation}\n",
    "\n",
    "\\begin{equation}\n",
    "L = \\frac{T}{R}\n",
    "\\end{equation}\n",
    "\n",
    "y el sweep rate $R$: \n",
    "\n",
    "\\begin{equation}\n",
    "R = \\ln \\left( \\frac{w_{2}}{w_{1}} \\right)\n",
    "\\tag{2}\n",
    "\\end{equation}\n",
    "\n",
    "Con $w_{1}$ y $w_{2}$, las frecuencias angulares inferior y superior respectivamente, $T$ es el tiempo de duración del sine sweep en segundos (Meng, Q., 2008). Si estudiamos el espectro de la señal de la ecuación (1), se observa que no es plano, sino que disminuye a razón de -3 dB/octava, como el ruido rosa (Ver fig. 2, sup). De modo que el espectro de $x(-t)$ debe ser ajustado, aumentando en 3 dB/octava, de modo que cuando realizamos el cálculo se restaure la plenitud perfecta de la respuesta de impulso medida $h(t)$ (Farina A., 2000) (Ver fig. 2, inf).\n",
    "\n",
    "![](../img/image43.png)\n",
    "<center><b>Fig 2.</b> Espectro del sine sweep. Sine sweep logarítmico  (sup). Filtro invertido (inf).</center>\n",
    "\n",
    "\n",
    "En el dominio temporal las señales del sine sweep logarítmico y el filtro inverso se comportan de la siguiente manera (Ver fig. 3). \n",
    "\n",
    "![](../img/image46.png)\n",
    "<center><b>Fig 3.</b> Magnitud del sine sweep. Sine sweep logarítmico (sup). Filtro invertido (inf).</center>"
   ]
  },
  {
   "cell_type": "markdown",
   "metadata": {},
   "source": [
    "Para generar el filtro inverso $k(t)$ del sine sweep logarítmico $x(t)$ se requiere de una modulación $m(t)$ definida por la siguiente expresión:\n",
    "\n",
    "\\begin{equation}\n",
    "m(t) = \\frac{w_{1}}{2\\pi w(t)}\n",
    "\\tag{3}\n",
    "\\end{equation}\n",
    "\n",
    "Obtenida de la frecuencia instantánea (dado que la amplitud cambia en función de la\n",
    "frecuencia), calculada a partir de la ecuación (1):\n",
    "\n",
    "\\begin{equation}\n",
    "w(t)=\\frac{d[\\theta (t)]}{dt}=\\frac{K}{L} e^\\frac{t}{L}\n",
    "\\tag{4}\n",
    "\\end{equation}\n",
    "m\n",
    "entonces, el filtro inverso $k(t)$ queda definido como:\n",
    "\n",
    "\\begin{equation}\n",
    "k(t)=m(t)x(-t)\n",
    "\\tag{5}\n",
    "\\end{equation}\n",
    "\n",
    "**Consigna:** realizar una función generadora de un sine sweep y su filtro inverso, a partir de las ecuaciones descriptas anteriormente, y graficar el resultado de ambos filtros, usando la función anteriormente creada. Recordar almacenar los audios. Agregar docstring que indique claramente los parametros de entrada y salida."
   ]
  },
  {
   "cell_type": "code",
   "execution_count": 43,
   "metadata": {
    "tags": []
   },
   "outputs": [],
   "source": [
    "def sine_sweep(t,f1,f2,fs=44100):\n",
    "    \"\"\"\n",
    "    Genera un Sine Sweep y su filtro inverso utilizando las ecuaciones de Meng, Q.\n",
    "    \n",
    "    .. Nota:: si 'sine_sweep.wav' y 'filtro_inverso.wav' existen, estos serán sobreescritos.\n",
    "    \n",
    "    Parametros\n",
    "    ----------\n",
    "    t : float\n",
    "        Valor temporal en segundos, este determina la duración del ruido generado.\n",
    "    f1: int\n",
    "        Frencuancia inferior en Hz.\n",
    "    f2: int\n",
    "        Frencuancia superior en Hz.\n",
    "    fs: int\n",
    "        Frecuencia de muestreo en Hz de la señal. Por defecto el valor es 44100 Hz.\n",
    "    \n",
    "    returns: 2 NumPy array\n",
    "        Datos de las señales generadas.\n",
    "    \n",
    "    Ejemplo\n",
    "    -------\n",
    "    Generar dos `.wav` desde un numpy array de 10 segundos con sine sweep y su filtro inverso a una \n",
    "    frecuencia de muestreo de 44100 Hz.\n",
    "    \n",
    "        import numpy as np\n",
    "        import pandas as pd\n",
    "        import soundfile as sf\n",
    "        \n",
    "        sine_sweep(10,20,20000)\n",
    "    \"\"\"\n",
    "\n",
    "    # Frecuencia angular\n",
    "    w1 = 2*np.pi*f1\n",
    "    w2 = 2*np.pi*f2\n",
    "    T = np.linspace(0,t,t*fs)\n",
    "    R = np.log(w2/w1)\n",
    "    L = t/R\n",
    "    K = (t*w1)/R\n",
    "\n",
    "    # Definición del sine sweep\n",
    "    sine_sweep_t = np.sin(K*(np.exp(T/L)-1))\n",
    "\n",
    "    # Frecuencia instantánea\n",
    "    w = (K/L)*np.exp(T/L)\n",
    "\n",
    "    # Modulación\n",
    "    m = w1/2*np.pi*w \n",
    "    \n",
    "    # Definición del filtro inverso\n",
    "    filtro_inverso = m * np.sin(K*(np.exp(-T/L)-1))\n",
    "\n",
    "    # Generación de archivos de audio .wav\n",
    "    sf.write('sine_sweep.wav', sine_sweep_t, fs)\n",
    "    sf.write('filtro_inverso.wav',filtro_inverso, fs)\n",
    "\n",
    "    return sine_sweep_t, filtro_inverso\n"
   ]
  },
  {
   "cell_type": "markdown",
   "metadata": {
    "tags": []
   },
   "source": [
    "Llamar la función."
   ]
  },
  {
   "cell_type": "code",
   "execution_count": 44,
   "metadata": {
    "tags": []
   },
   "outputs": [],
   "source": [
    "sine_sweep = sine_sweep(10,20,20000)"
   ]
  },
  {
   "cell_type": "markdown",
   "metadata": {},
   "source": [
    "Graficar el dominio espectral del resultado utilizando el [software Audacity](https://www.audacityteam.org/) (Ayuda: [Plot Spectrum Audacity](https://manual.audacityteam.org/man/plot_spectrum.html))"
   ]
  },
  {
   "cell_type": "code",
   "execution_count": 11,
   "metadata": {
    "tags": []
   },
   "outputs": [],
   "source": [
    "# completar"
   ]
  },
  {
   "cell_type": "markdown",
   "metadata": {},
   "source": [
    "Reproducir resultados."
   ]
  },
  {
   "cell_type": "code",
   "execution_count": 49,
   "metadata": {
    "tags": []
   },
   "outputs": [
    {
     "name": "stderr",
     "output_type": "stream",
     "text": [
      "ALSA lib pcm.c:8568:(snd_pcm_recover) underrun occurred\n",
      "ALSA lib pcm.c:8568:(snd_pcm_recover) underrun occurred\n",
      "ALSA lib pcm.c:8568:(snd_pcm_recover) underrun occurred\n"
     ]
    }
   ],
   "source": [
    "# Reproducir sine sweep\n",
    "sd.play(sine_sweep[0])\n",
    "# Reproducir filtro inverso\n",
    "sd.play(sine_sweep[1])"
   ]
  },
  {
   "cell_type": "markdown",
   "metadata": {},
   "source": [
    "## Función adquisicion y reproducción\n",
    "**Consigna**: la función tiene que permitir la reproducción y la adquisición de manera simultánea para un tiempo determinado por el usuario. Es importante evaluar y constatar dicha simultaneidad. El módulo debería permitir seleccionar el hardware a utilizar. Algunos articulos de interes para el desarrollo:\n",
    "* [Clase de audio](../../clases/clase_6/600_audio.ipynb)\n",
    "* [Sound Device - Simultaneous Playback and Recording](https://python-sounddevice.readthedocs.io/en/0.4.1/usage.html#simultaneous-playback-and-recording)\n",
    "* [Playing and Recording Sound in Python](https://realpython.com/playing-and-recording-sound-python/)\n",
    "* [Audio in Python](https://wiki.python.org/moin/Audio/)\n",
    "* [https://github.com/spatialaudio/python-sounddevice/issues/148](https://github.com/spatialaudio/python-sounddevice/issues/148)"
   ]
  },
  {
   "cell_type": "code",
   "execution_count": null,
   "metadata": {
    "tags": []
   },
   "outputs": [],
   "source": [
    "# Completar"
   ]
  },
  {
   "cell_type": "markdown",
   "metadata": {
    "tags": []
   },
   "source": [
    "Llamar la función."
   ]
  },
  {
   "cell_type": "code",
   "execution_count": null,
   "metadata": {
    "tags": []
   },
   "outputs": [],
   "source": [
    "# completar"
   ]
  },
  {
   "cell_type": "markdown",
   "metadata": {},
   "source": [
    "¿Cómo se podría medir la latencia de la función?"
   ]
  },
  {
   "cell_type": "code",
   "execution_count": null,
   "metadata": {},
   "outputs": [],
   "source": [
    "# Completar"
   ]
  }
 ],
 "metadata": {
  "kernelspec": {
   "display_name": "Python 3.10.6 64-bit",
   "language": "python",
   "name": "python3"
  },
  "language_info": {
   "codemirror_mode": {
    "name": "ipython",
    "version": 3
   },
   "file_extension": ".py",
   "mimetype": "text/x-python",
   "name": "python",
   "nbconvert_exporter": "python",
   "pygments_lexer": "ipython3",
   "version": "3.10.6"
  },
  "vscode": {
   "interpreter": {
    "hash": "e7370f93d1d0cde622a1f8e1c04877d8463912d04d973331ad4851f04de6915a"
   }
  }
 },
 "nbformat": 4,
 "nbformat_minor": 4
}
