{
 "cells": [
  {
   "cell_type": "markdown",
   "metadata": {},
   "source": [
    "# Trabajo Practico - Desarrollo de software para el cálculo de parámetros acústicos ISO 3382 (3er entrega)\n",
    "\n",
    "## Fecha de entrega"
   ]
  },
  {
   "cell_type": "markdown",
   "metadata": {},
   "source": [
    "*Ingresar fecha*"
   ]
  },
  {
   "cell_type": "markdown",
   "metadata": {},
   "source": [
    "## Integrantes"
   ]
  },
  {
   "cell_type": "markdown",
   "metadata": {},
   "source": [
    "* <Nombre, Apellido>\n",
    "* <Nombre, Apellido>\n",
    "* <Nombre, Apellido>"
   ]
  },
  {
   "cell_type": "markdown",
   "metadata": {},
   "source": [
    "## Entrega FINAL ¡LEER ATENTAMENTE!\n",
    "\n",
    "En esta entrega se completa todo el notebook como se realizó anteriormente, pero con la diferencia que **NO SE ENTREGA ESTE NOTEBOOK**, en contrapartida deben entregar las funciones en uno o varios archivos `.py`, para ser ejecutados y evaluados con nota. \n",
    "\n",
    "Es importante entregar todos los elementos necesarios para reproducir *end-to-end* el software. Para eso se deben integrar todas las funciones de las anteriores entregas en uno o varios archivos `.py` sin olvidar ningún detalle.\n",
    "\n",
    "Se recomienda seguir una estructura del tipo [`if __name__ == \"__main__\"`](https://www.freecodecamp.org/espanol/news/python-if-name-main/) para la estructura del archivo. Recuerden agregar los test implementados. Al final de este notebook hay un diagrama de flujo ilustrativo de como combinar las funciones (no es la única manera).\n",
    "\n",
    "> **Nota:** Como figura a continuación, comparar los resultados obtenidos con la señal sintetizada, con las señales descargadas y realizar una tabla comparativa. Ademas se puede hacer uso de herramientas como REW(Room Acoustics Software) para comparar los resultados obtenidos. **La diferencia debe ser menor a 0.5 s en las frecuencias centrales de 500 Hz a 2000 Hz**."
   ]
  },
  {
   "cell_type": "markdown",
   "metadata": {},
   "source": [
    "### Aspectos generales del notebook\n",
    "\n",
    "Esta entrega es la final, en el mismo se debe volcar toda la informacion relevante del proyecto. Recordamos las pautas más importantes:\n",
    "\n",
    "* Todas las funciones deben contar con su [docstring](https://realpython.com/documenting-python-code/#docstring-types), como figura en la función de ejemplo (`ruidoRosa_voss`)(1er entrega).\n",
    "* Todos los gráficos deben tener correctamente etiquetados los ejes.\n",
    "* Enviar los archivos `.py` y el informe en formato `.pdf` a myommi@untref.edu.ar.\n",
    "* Todas las señales de audio deben ser grabadas en formato .wav en la misma función que las genera."
   ]
  },
  {
   "cell_type": "markdown",
   "metadata": {},
   "source": [
    "## Librerias utilizadas\n",
    "Agregar todas las librerias utilizadas, algunas a modo de ejemplo:"
   ]
  },
  {
   "cell_type": "code",
   "execution_count": 62,
   "metadata": {},
   "outputs": [],
   "source": [
    "import numpy as np\n",
    "from matplotlib import pyplot as plt\n",
    "import pandas as pd\n",
    "from scipy import signal"
   ]
  },
  {
   "cell_type": "markdown",
   "metadata": {},
   "source": [
    "## Función suavizado de señal\n",
    "\n",
    "Investigar e implementar en una única función alguna o todas las técnicas que se mencionan a continuación:\n",
    "\n",
    "### 1. Transformada de Hilbert\n",
    "\n",
    "Se trata de un operador lineal definido por la convolución de la señal que deseamos transformar $s(t)$ y la función $1/\\pi t$:\n",
    "\\begin{equation}\n",
    "H\\big\\{s(t)\\big\\} = s(t) * \\frac{1}{\\pi t} \n",
    "\\tag{12}\n",
    "\\end{equation}\n",
    "Si la calculamos en el dominio de la frecuencia, \n",
    "\n",
    "\\begin{equation}\n",
    "H\\big\\{S(w)\\big\\} =  -j\\cdot sgn(w)\\cdot S(w)\n",
    "\\tag{13}\n",
    "\\end{equation}\n",
    "\n",
    "donde la funcion $sgn(w)$ representa el signo de la frecuencia:\n",
    "\n",
    "\\begin{equation}\n",
    "sgn (w) = \n",
    "\\left\\{\n",
    "\\begin{array}{ll}\n",
    "      -1 & w<1 \\\\\n",
    "      0 & w=0 \\\\\n",
    "      1 & w>1 \\\\\n",
    "\\end{array} \n",
    "\\right .\n",
    "\\tag{14}\n",
    "\\end{equation}\n",
    "\n",
    "Se utiliza con la función original para obtener la llamada señal analitica de $s(t)$ llamada $s_{a}(t)$, expresada como:\n",
    "\n",
    "\\begin{equation}\n",
    "s_{a}(t) = s(t) + j \\cdot H\\big\\{s(t)\\big\\}\n",
    "\\tag{15}\n",
    "\\end{equation}\n",
    "\n",
    "La transformada de Hilbert produce entonces el efecto de desplazar la componente de frecuencias negativas de  $s(t)$ +90° y las partes de frecuencias positivas −90. La señal analitica $s_{a}(t)$ correspondiente a una señal real $s(t)$ se define como una señal compleja cuyo espectro de frecuencias es nulo para frecuencias negativas, y cuya parte real es igual a la señal original $s(t)$. Tambien podemos afirmar que una señal es analitica si su parte imaginaria es igual a la Transformada de Hilbert de su parte real. \n",
    "De la  señal analitica se puede obtener fácilmente la envolvente de la señal, conservando tan solo el modulo de dicha transformación. Otra interpretación es que la transformada de Hilbert de $s(t)$ es la salida de un sistema LTI con entrada $s(t)$ y respuesta al impulso $1/\\pi t$.\n",
    "\n",
    "**Consigna:** Realizar una función que aplique la transformada de Hilbert a una señal de entrada."
   ]
  },
  {
   "cell_type": "code",
   "execution_count": null,
   "metadata": {},
   "outputs": [],
   "source": [
    "# completar"
   ]
  },
  {
   "cell_type": "markdown",
   "metadata": {},
   "source": [
    "### 2. Filtro de promedio móvil\n",
    "\n",
    "Se trata de una técnica de filtrado, la cual devuelve un valor de salida igual al promedio de $L$ muestras, dando una lista de números los cuales cada uno es el promedio de un subconjunto de los datos originales. Para cada muestra de nuestra señal, obtenemos la nueva funcion filtrada aplicando la siguiente formula:\n",
    "\n",
    "\\begin{equation}\n",
    "y[i]=\\frac{1}{L}\\sum_{j=0}^{L-1}x[i-j]\n",
    "\\tag{16}\n",
    "\\end{equation}\n",
    "\n",
    "donde $i$ es la muestra actual que se esta evaluando,$x[i]$ la señal original y $y[i]$ la señal filtrada.\n",
    "El filtro permite filtrar las altas frecuencias (pasa bajo), devolviendo una versión suavizada de la señal.\n",
    "\n",
    "**Consigna:** Realizar una función que aplique el filtro de promedio móvil a una señal de entrada."
   ]
  },
  {
   "cell_type": "code",
   "execution_count": null,
   "metadata": {},
   "outputs": [],
   "source": [
    "# completar"
   ]
  },
  {
   "cell_type": "markdown",
   "metadata": {},
   "source": [
    "Armar una única función de los snippets anteriores."
   ]
  },
  {
   "cell_type": "code",
   "execution_count": null,
   "metadata": {},
   "outputs": [],
   "source": [
    "# completar"
   ]
  },
  {
   "cell_type": "markdown",
   "metadata": {},
   "source": [
    "Llamar a la función con algún impulso generado o descargado de la 2da entrega."
   ]
  },
  {
   "cell_type": "code",
   "execution_count": null,
   "metadata": {
    "tags": []
   },
   "outputs": [],
   "source": [
    "# completar"
   ]
  },
  {
   "cell_type": "markdown",
   "metadata": {
    "tags": []
   },
   "source": [
    "Visualizar la señal con la función creada en la primer entrega."
   ]
  },
  {
   "cell_type": "code",
   "execution_count": null,
   "metadata": {
    "tags": []
   },
   "outputs": [],
   "source": [
    "# completar"
   ]
  },
  {
   "cell_type": "markdown",
   "metadata": {
    "tags": []
   },
   "source": [
    "Reproducir señal resultante."
   ]
  },
  {
   "cell_type": "code",
   "execution_count": null,
   "metadata": {
    "tags": []
   },
   "outputs": [],
   "source": [
    "# completar"
   ]
  },
  {
   "cell_type": "markdown",
   "metadata": {},
   "source": [
    "Comentar sobre el resultado obtenido. ¿Qué está visualizando?  comparar con la señal original en el mismo gráfico."
   ]
  },
  {
   "cell_type": "markdown",
   "metadata": {
    "tags": []
   },
   "source": [
    "*completar*"
   ]
  },
  {
   "cell_type": "markdown",
   "metadata": {},
   "source": [
    "Se observan una gran diferencia. ¿Qué método de filtrado es más efectivo?"
   ]
  },
  {
   "cell_type": "markdown",
   "metadata": {
    "tags": []
   },
   "source": [
    "*completar*"
   ]
  },
  {
   "cell_type": "markdown",
   "metadata": {},
   "source": [
    "## Función integral de Schroeder\n",
    "\n",
    "También conocida como transformada de Schroeder. Permite aproximar el impulso a una señal más adecuada para calcular parámetros acústicos. \n",
    "\n",
    "**Consigna:** Realizar una función que aplique la siguiente expresión a las señales suavizadas:\n",
    "\n",
    "\\begin{equation}\n",
    "E(t) = \\int_{t}^{\\infty}p^{2}(\\tau) \\partial\\tau = \\int_{0}^{\\infty}p^{2}(\\tau) \\partial\\tau - \\int_{0}^{t}p^{2}(\\tau) \\partial\\tau\n",
    "\\tag{17}\n",
    "\\end{equation}\n",
    "\n",
    "Siendo $p(\\tau)$ la respuesta al impulso y $t$ variando de $t\\rightarrow\\infty$ hasta el principio de $p(t)$. Con objetivo de minimizar la influencia del ruido de fondo en conveniente definir el extremo superior de la integral, en lugar de llevarla hasta el final del audio (usando Función Lundeby, opcional)."
   ]
  },
  {
   "cell_type": "code",
   "execution_count": null,
   "metadata": {},
   "outputs": [],
   "source": [
    "# completar"
   ]
  },
  {
   "cell_type": "markdown",
   "metadata": {},
   "source": [
    "Llamar a la función con una señal suavizada."
   ]
  },
  {
   "cell_type": "code",
   "execution_count": null,
   "metadata": {
    "tags": []
   },
   "outputs": [],
   "source": [
    "# completar"
   ]
  },
  {
   "cell_type": "markdown",
   "metadata": {
    "tags": []
   },
   "source": [
    "Visualizar la señal en escala logaritmica con la función creada en la 2da entrega, junto a la señal original antes de ser suavizada (tambien en escala logaritmica)"
   ]
  },
  {
   "cell_type": "code",
   "execution_count": null,
   "metadata": {
    "tags": []
   },
   "outputs": [],
   "source": [
    "# completar"
   ]
  },
  {
   "cell_type": "markdown",
   "metadata": {},
   "source": [
    "Comentar lo que se observa en la visualización."
   ]
  },
  {
   "cell_type": "markdown",
   "metadata": {},
   "source": [
    "*completar*"
   ]
  },
  {
   "cell_type": "markdown",
   "metadata": {},
   "source": [
    "## Función regresión lineal por mínimos cuadrados\n",
    "\n",
    "La señal obtenida anteriormente es una nube de puntos concentrados con una clara tendencia, se desea optener una expresión matemática por medio de un método númerico para definir una recta que aproxime esta tendencia.\n",
    "\n",
    "**Consigna**: Aplicar la aproximación por una recta obtenida de la regresión lineal por cuadrados mínimos de la respuesta al impulso suavizado y con algoritmo propio y no utilizando funciones predefinidas. Se puede utilizar funciones ya desarrolladas en otras librerias para comparar (por ejemplo, la libreria [sklearn](https://scikit-learn.org/stable/modules/generated/sklearn.linear_model.LinearRegression.html) ), con la función desarrollada. En el anexo C de ISO 3382 del año 2008, figura como implementar la regresión lineal en su modo clásico, en la asignatura se utiliza el método matricial. Elegir un método y aplicarlo. Calcular e indicar el error cuadratico medio entre los metodos utilizados"
   ]
  },
  {
   "cell_type": "code",
   "execution_count": null,
   "metadata": {},
   "outputs": [],
   "source": [
    "# completar"
   ]
  },
  {
   "cell_type": "markdown",
   "metadata": {},
   "source": [
    "Llamar a la función con una señal suavizada."
   ]
  },
  {
   "cell_type": "code",
   "execution_count": null,
   "metadata": {
    "tags": []
   },
   "outputs": [],
   "source": [
    "# completar"
   ]
  },
  {
   "cell_type": "markdown",
   "metadata": {
    "tags": []
   },
   "source": [
    "Visualizar la recta obtenida respecto a la señal del punto anterior."
   ]
  },
  {
   "cell_type": "code",
   "execution_count": null,
   "metadata": {
    "tags": []
   },
   "outputs": [],
   "source": [
    "# completar"
   ]
  },
  {
   "cell_type": "markdown",
   "metadata": {},
   "source": [
    "Comentar lo que se observa en la visualización."
   ]
  },
  {
   "cell_type": "markdown",
   "metadata": {},
   "source": [
    "*completar*"
   ]
  },
  {
   "cell_type": "markdown",
   "metadata": {},
   "source": [
    "## Función cálculo de parámetros acústicos:  \n",
    "\n",
    "**Consigna**: Desarrollar una función que permita calcular los siguientes parámetros acústicos definidos en la ISO 3382 (UNE-EN ISO 3382, 2010), a partir de la recta aproximada. Buscar en la normativa la definición de los siguiente parámetros:\n",
    "1. EDT.\n",
    "2. T60 a partir del T10, T20 y T30.\n",
    "3. D50.\n",
    "4. C80."
   ]
  },
  {
   "cell_type": "code",
   "execution_count": null,
   "metadata": {},
   "outputs": [],
   "source": [
    "# completar"
   ]
  },
  {
   "cell_type": "markdown",
   "metadata": {},
   "source": [
    "Llamar a la función con la señal aproximada"
   ]
  },
  {
   "cell_type": "code",
   "execution_count": null,
   "metadata": {
    "tags": []
   },
   "outputs": [],
   "source": [
    "# completar"
   ]
  },
  {
   "cell_type": "markdown",
   "metadata": {},
   "source": [
    "Comparar los resultados obtenidos con la señal sintetizada, con las señales descargadas y realizar una tabla comparativa. Ademas se puede hacer uso de herramientas como [REW(Room Acoustics Software)](https://www.roomeqwizard.com/) para comparar los resultados obtenidos"
   ]
  },
  {
   "cell_type": "markdown",
   "metadata": {},
   "source": [
    "## Función Lundeby (opcional)\n",
    "\n",
    "Investigar método(Y. Hirata,1982), para encontrar el extremo superior de integración de la ecuación 17. El método de Lundeby está basado en un algoritmo iterativo que selecciona el intervalo temporal más adecuado para el cual se calcula la regresión lineal, buscando eliminar contribuciones no deseadas. A continuación se describe el algoritmo.(Y. Hirata,1982):\n",
    "1. Se calcula la media cuadrática (RMS) de la respuesta al impulso en intervalos de tiempo (10-50 ms).\n",
    "2. Estimamos el nivel de ruido de fondo a partir de la cola reverberante (último 10% de la señal).\n",
    "3. Estimamos la pendiente de decaimiento desde 0 db hasta el nivel del ruido (el punto “izquierdo” es el correspondiente a 0 dB. Buscamos el punto “derecho” 5 - 10 dB por sobre el nivel del ruido).\n",
    "4. Encontrar el punto de cruce entre la regresión lineal y el nivel de ruido.\n",
    "5. Encontrar nuevos intervalos locales basándose en la pendiente actual (usar entre  3-10 intervalos cada 10 dB de decaimiento).\n",
    "6. Calcular la media cuadrática (RMS) de la respuesta al impulso en los nuevos intervalos locales.\n",
    "7. Estimar ruido de fondo (comenzando por un punto de tiempo correspondiente a un decaimiento de 5-10 dB basándose en la pendiente actual luego del punto de cruce actual, tomando como longitud mínima el 10% de la RI).\n",
    "8. Estimar la nueva pendiente de decaimiento (se debería evaluar un rango dinámico de 10-20 dB, comenzando en 5-10 dB sobre el nivel de ruido)\n",
    "9. Encontrar un nuevo punto de cruce.\n",
    "10. Repetir 7,8 y  9 hasta alcanzar un punto de convergencia."
   ]
  },
  {
   "cell_type": "markdown",
   "metadata": {},
   "source": [
    "## Informe final: \n",
    "Realizar un informe final, con el mismo formato establecido en el informe preliminar, pero en este caso no debe exceder las 5 páginas. Además se recuerda remitir solamente a detalles relevante, algunos puntos importantes son:\n",
    "1. Contemplar las correcciones de la primera entrega.\n",
    "2. En el informe debe figurar claramente cómo se unen todas las funciones definidas y la interacción entre ellas. Utilizar algun diagrama para visualizar dicha relación.\n",
    "3. Mencionar detalladamente el procedimiento.\n",
    "4. Mostrar curvas de filtros, plot del procesamiento de la seña.\n",
    "5. Validación del algoritmo con software comercial.\n",
    "6. Los informes finales entregados fuera de fecha no serán evaluados.\n",
    "\n",
    "A modo ilustrastivo se muestra los porcentajes del contenido en los informes:\n",
    "\n",
    "| Resumen | Introducción | Marco teórico | Desarrollo experimental | Resultados | Conclusiones |\n",
    "| -- | -- | -- | -- | -- | --  |\n",
    "| 5% | 10% | 10% | 25% | 30% | 20% |"
   ]
  },
  {
   "cell_type": "markdown",
   "metadata": {},
   "source": [
    "### Extra\n",
    "\n",
    "Para el diagrama de flujo recomendamos utilizar la siguiente herramienta [DrawIo](https://app.diagrams.net), a continuación se adjunta un ejemplo de lo que se espera:\n",
    "\n",
    "![](../img/diagramFlow.png)\n",
    "\n",
    "El archivo para generar dicho gráfico se encuentra en `trabajo_practico/diagramFlow.drawio`, se puede descargar y editar en la web del la app."
   ]
  }
 ],
 "metadata": {
  "kernelspec": {
   "display_name": "Python 3",
   "language": "python",
   "name": "python3"
  },
  "language_info": {
   "codemirror_mode": {
    "name": "ipython",
    "version": 3
   },
   "file_extension": ".py",
   "mimetype": "text/x-python",
   "name": "python",
   "nbconvert_exporter": "python",
   "pygments_lexer": "ipython3",
   "version": "3.8.10"
  }
 },
 "nbformat": 4,
 "nbformat_minor": 4
}
