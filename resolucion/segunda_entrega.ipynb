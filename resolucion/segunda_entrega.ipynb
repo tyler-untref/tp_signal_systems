{
 "cells": [
  {
   "cell_type": "markdown",
   "metadata": {},
   "source": [
    "# Trabajo Practico - Desarrollo de software para el cálculo de parámetros acústicos ISO 3382 (2da entrega)\n",
    "\n",
    "## Fecha de entrega"
   ]
  },
  {
   "cell_type": "markdown",
   "metadata": {},
   "source": [
    "*18/10/2022*"
   ]
  },
  {
   "cell_type": "markdown",
   "metadata": {},
   "source": [
    "## Integrantes"
   ]
  },
  {
   "cell_type": "markdown",
   "metadata": {},
   "source": [
    "* <Tyler, Cruz>\n",
    "* <Santiago, Franco>\n",
    "* <Felipe, Merlo>"
   ]
  },
  {
   "cell_type": "markdown",
   "metadata": {},
   "source": [
    "## Aspectos generales del notebook\n",
    "\n",
    "* Todas las funciones deben contar con su [docstring](https://realpython.com/documenting-python-code/#docstring-types), como figura en la función de ejemplo (`ruidoRosa_voss`)(1er entrega).\n",
    "* Todos los gráficos deben tener correctamente etiquetados los ejes.\n",
    "* Enviar el notebook (.ipynb) completado y con las celdas ejecutas a myommi@untref.edu.ar.\n",
    "* Todas las señales de audio deben ser grabadas en formato .wav en la misma función que las genera."
   ]
  },
  {
   "cell_type": "markdown",
   "metadata": {},
   "source": [
    "## Librerias utilizadas\n",
    "Agregar todas las librerias utilizadas, algunas a modo de ejemplo:"
   ]
  },
  {
   "cell_type": "code",
   "execution_count": 76,
   "metadata": {},
   "outputs": [],
   "source": [
    "import numpy as np\n",
    "import soundfile as sf\n",
    "import sounddevice as sd\n",
    "from scipy import signal\n",
    "from scipy.fftpack import fft, ifft\n",
    "import pandas as pd"
   ]
  },
  {
   "cell_type": "markdown",
   "metadata": {},
   "source": [
    "## Descargar dataset\n",
    "El objetivo es tener archivos para validar el software creado , para lo cual es necesario contar con la información y los datos de la medición.\n",
    "\n",
    "### 1. Respuestas al impulso: \n",
    "**Consigna:** Descargar **al menos dos** respuestas al impulso (RI o en ingles IR, Impulse Responses) de dos recintos distintos del siguiente [link](https://www.openair.hosted.york.ac.uk/?page_id=36) y toda la información relevante de la medición, ademas de los resultados de los parametros acústicos calculados (para luego comparar). También se pueden usar los archivos dispuestos en el Drive de la asignatura. \n",
    "\n",
    "### 2. Sine sweep logarítmico + filtro inverso: \n",
    "**Consigna:** Descargar **al menos un** sine sweep con su respectivo filtro inverso. Una posibildiad es usar los archivos dispuestos en el GDrive de la asignatura. Para generar el filtro inverso usar la info brindada por el informe técnico en la misma carpeta de los archivos. "
   ]
  },
  {
   "cell_type": "markdown",
   "metadata": {},
   "source": [
    "## Función de carga de archivos de audio\n",
    "\n",
    "**Consigna:** realizar una función que permita cargar archivos de audio, en lo posible \\*.wav, por ejemplo los archivos anteriormente descargados. Contemplar el ingreso de más de un archivo de audio, por tipo."
   ]
  },
  {
   "cell_type": "code",
   "execution_count": 68,
   "metadata": {},
   "outputs": [],
   "source": [
    "def lectura_wav(filename):\n",
    "    \"\"\"\n",
    "    Lee un archivo de audio .wav ingresado.\n",
    "\n",
    "    Parametros\n",
    "    ----------\n",
    "    filename : archivo de audio.\n",
    "\n",
    "    Returns\n",
    "    -------\n",
    "    data : numpy array\n",
    "        Array con información del audio.\n",
    "\n",
    "    fs: int\n",
    "        Frecuencia de muestreo del audio.\n",
    "    \"\"\"\n",
    "\n",
    "    data, fs = sf.read(filename)\n",
    "\n",
    "    return data, fs\n",
    "\n",
    "\n",
    "def carga_wav(files):\n",
    "    \"\"\"\n",
    "    Almacena los datos de los archivos de audio .wav ingresados.\n",
    "\n",
    "    Parameters\n",
    "    ----------\n",
    "    files : lista\n",
    "        Lista con los nombres de los archivos de audio.\n",
    "\n",
    "    Returns\n",
    "    -------\n",
    "    audios : dict\n",
    "        Diccionario que tiene los nombres de los archivos de audio como keys y como values una tupla que contiene el array de información del audio seguido por su frecuencia de muestreo (int).\n",
    "\n",
    "    \"\"\"\n",
    "\n",
    "    files = np.array(files)\n",
    "    audios = {}\n",
    "\n",
    "    for i in range(files.size):\n",
    "        data, fs = lectura_wav(files[i])\n",
    "        audios[files[i]] = data, fs\n",
    "\n",
    "    return audios"
   ]
  },
  {
   "cell_type": "markdown",
   "metadata": {},
   "source": [
    "Llamar a la función con uno de los ejemplos anteriormente descargados y usar la función de visualización de la 1er entrega."
   ]
  },
  {
   "cell_type": "code",
   "execution_count": 69,
   "metadata": {
    "tags": []
   },
   "outputs": [],
   "source": [
    "audios = carga_wav(['RI_1.wav', 'RI_2.wav'])\n"
   ]
  },
  {
   "cell_type": "code",
   "execution_count": 70,
   "metadata": {},
   "outputs": [],
   "source": [
    "data_RI1, fs_RI1 = audios.get('RI_1.wav')\n",
    "data_RI2, fs_RI2 = audios.get('RI_2.wav')\n"
   ]
  },
  {
   "cell_type": "code",
   "execution_count": 30,
   "metadata": {},
   "outputs": [
    {
     "ename": "ValueError",
     "evalue": "x and y must have same first dimension, but have shapes (480002,) and (480001,)",
     "output_type": "error",
     "traceback": [
      "\u001b[0;31m---------------------------------------------------------------------------\u001b[0m",
      "\u001b[0;31mValueError\u001b[0m                                Traceback (most recent call last)",
      "Cell \u001b[0;32mIn [30], line 3\u001b[0m\n\u001b[1;32m      1\u001b[0m \u001b[39mfrom\u001b[39;00m \u001b[39mfunciones\u001b[39;00m \u001b[39mimport\u001b[39;00m grafico_señal\n\u001b[0;32m----> 3\u001b[0m grafico_señal(data_RI1, fs_RI1, \u001b[39m'\u001b[39m\u001b[39mRI 1\u001b[39m\u001b[39m'\u001b[39m)\n\u001b[1;32m      4\u001b[0m grafico_señal(data_RI2, fs_RI2, \u001b[39m'\u001b[39m\u001b[39mRI 2\u001b[39m\u001b[39m'\u001b[39m)\n",
      "File \u001b[0;32m~/Documents/Señales/tp_signal_systems/resolucion/funciones.py:105\u001b[0m, in \u001b[0;36mgrafico_señal\u001b[0;34m(data, fs, title)\u001b[0m\n\u001b[1;32m    102\u001b[0m plt\u001b[39m.\u001b[39mylabel(\u001b[39m'\u001b[39m\u001b[39mAmplitud\u001b[39m\u001b[39m'\u001b[39m)\n\u001b[1;32m    104\u001b[0m plt\u001b[39m.\u001b[39mtitle(title)\n\u001b[0;32m--> 105\u001b[0m plt\u001b[39m.\u001b[39;49mplot(x,y)\n\u001b[1;32m    107\u001b[0m \u001b[39mreturn\u001b[39;00m plt\u001b[39m.\u001b[39mshow()\n",
      "File \u001b[0;32m/usr/lib/python3.10/site-packages/matplotlib/pyplot.py:2769\u001b[0m, in \u001b[0;36mplot\u001b[0;34m(scalex, scaley, data, *args, **kwargs)\u001b[0m\n\u001b[1;32m   2767\u001b[0m \u001b[39m@_copy_docstring_and_deprecators\u001b[39m(Axes\u001b[39m.\u001b[39mplot)\n\u001b[1;32m   2768\u001b[0m \u001b[39mdef\u001b[39;00m \u001b[39mplot\u001b[39m(\u001b[39m*\u001b[39margs, scalex\u001b[39m=\u001b[39m\u001b[39mTrue\u001b[39;00m, scaley\u001b[39m=\u001b[39m\u001b[39mTrue\u001b[39;00m, data\u001b[39m=\u001b[39m\u001b[39mNone\u001b[39;00m, \u001b[39m*\u001b[39m\u001b[39m*\u001b[39mkwargs):\n\u001b[0;32m-> 2769\u001b[0m     \u001b[39mreturn\u001b[39;00m gca()\u001b[39m.\u001b[39;49mplot(\n\u001b[1;32m   2770\u001b[0m         \u001b[39m*\u001b[39;49margs, scalex\u001b[39m=\u001b[39;49mscalex, scaley\u001b[39m=\u001b[39;49mscaley,\n\u001b[1;32m   2771\u001b[0m         \u001b[39m*\u001b[39;49m\u001b[39m*\u001b[39;49m({\u001b[39m\"\u001b[39;49m\u001b[39mdata\u001b[39;49m\u001b[39m\"\u001b[39;49m: data} \u001b[39mif\u001b[39;49;00m data \u001b[39mis\u001b[39;49;00m \u001b[39mnot\u001b[39;49;00m \u001b[39mNone\u001b[39;49;00m \u001b[39melse\u001b[39;49;00m {}), \u001b[39m*\u001b[39;49m\u001b[39m*\u001b[39;49mkwargs)\n",
      "File \u001b[0;32m/usr/lib/python3.10/site-packages/matplotlib/axes/_axes.py:1632\u001b[0m, in \u001b[0;36mAxes.plot\u001b[0;34m(self, scalex, scaley, data, *args, **kwargs)\u001b[0m\n\u001b[1;32m   1390\u001b[0m \u001b[39m\"\"\"\u001b[39;00m\n\u001b[1;32m   1391\u001b[0m \u001b[39mPlot y versus x as lines and/or markers.\u001b[39;00m\n\u001b[1;32m   1392\u001b[0m \n\u001b[0;32m   (...)\u001b[0m\n\u001b[1;32m   1629\u001b[0m \u001b[39m(``'green'``) or hex strings (``'#008000'``).\u001b[39;00m\n\u001b[1;32m   1630\u001b[0m \u001b[39m\"\"\"\u001b[39;00m\n\u001b[1;32m   1631\u001b[0m kwargs \u001b[39m=\u001b[39m cbook\u001b[39m.\u001b[39mnormalize_kwargs(kwargs, mlines\u001b[39m.\u001b[39mLine2D)\n\u001b[0;32m-> 1632\u001b[0m lines \u001b[39m=\u001b[39m [\u001b[39m*\u001b[39m\u001b[39mself\u001b[39m\u001b[39m.\u001b[39m_get_lines(\u001b[39m*\u001b[39margs, data\u001b[39m=\u001b[39mdata, \u001b[39m*\u001b[39m\u001b[39m*\u001b[39mkwargs)]\n\u001b[1;32m   1633\u001b[0m \u001b[39mfor\u001b[39;00m line \u001b[39min\u001b[39;00m lines:\n\u001b[1;32m   1634\u001b[0m     \u001b[39mself\u001b[39m\u001b[39m.\u001b[39madd_line(line)\n",
      "File \u001b[0;32m/usr/lib/python3.10/site-packages/matplotlib/axes/_base.py:312\u001b[0m, in \u001b[0;36m_process_plot_var_args.__call__\u001b[0;34m(self, data, *args, **kwargs)\u001b[0m\n\u001b[1;32m    310\u001b[0m     this \u001b[39m+\u001b[39m\u001b[39m=\u001b[39m args[\u001b[39m0\u001b[39m],\n\u001b[1;32m    311\u001b[0m     args \u001b[39m=\u001b[39m args[\u001b[39m1\u001b[39m:]\n\u001b[0;32m--> 312\u001b[0m \u001b[39myield from\u001b[39;00m \u001b[39mself\u001b[39;49m\u001b[39m.\u001b[39;49m_plot_args(this, kwargs)\n",
      "File \u001b[0;32m/usr/lib/python3.10/site-packages/matplotlib/axes/_base.py:498\u001b[0m, in \u001b[0;36m_process_plot_var_args._plot_args\u001b[0;34m(self, tup, kwargs, return_kwargs)\u001b[0m\n\u001b[1;32m    495\u001b[0m     \u001b[39mself\u001b[39m\u001b[39m.\u001b[39maxes\u001b[39m.\u001b[39myaxis\u001b[39m.\u001b[39mupdate_units(y)\n\u001b[1;32m    497\u001b[0m \u001b[39mif\u001b[39;00m x\u001b[39m.\u001b[39mshape[\u001b[39m0\u001b[39m] \u001b[39m!=\u001b[39m y\u001b[39m.\u001b[39mshape[\u001b[39m0\u001b[39m]:\n\u001b[0;32m--> 498\u001b[0m     \u001b[39mraise\u001b[39;00m \u001b[39mValueError\u001b[39;00m(\u001b[39mf\u001b[39m\u001b[39m\"\u001b[39m\u001b[39mx and y must have same first dimension, but \u001b[39m\u001b[39m\"\u001b[39m\n\u001b[1;32m    499\u001b[0m                      \u001b[39mf\u001b[39m\u001b[39m\"\u001b[39m\u001b[39mhave shapes \u001b[39m\u001b[39m{\u001b[39;00mx\u001b[39m.\u001b[39mshape\u001b[39m}\u001b[39;00m\u001b[39m and \u001b[39m\u001b[39m{\u001b[39;00my\u001b[39m.\u001b[39mshape\u001b[39m}\u001b[39;00m\u001b[39m\"\u001b[39m)\n\u001b[1;32m    500\u001b[0m \u001b[39mif\u001b[39;00m x\u001b[39m.\u001b[39mndim \u001b[39m>\u001b[39m \u001b[39m2\u001b[39m \u001b[39mor\u001b[39;00m y\u001b[39m.\u001b[39mndim \u001b[39m>\u001b[39m \u001b[39m2\u001b[39m:\n\u001b[1;32m    501\u001b[0m     \u001b[39mraise\u001b[39;00m \u001b[39mValueError\u001b[39;00m(\u001b[39mf\u001b[39m\u001b[39m\"\u001b[39m\u001b[39mx and y can be no greater than 2D, but have \u001b[39m\u001b[39m\"\u001b[39m\n\u001b[1;32m    502\u001b[0m                      \u001b[39mf\u001b[39m\u001b[39m\"\u001b[39m\u001b[39mshapes \u001b[39m\u001b[39m{\u001b[39;00mx\u001b[39m.\u001b[39mshape\u001b[39m}\u001b[39;00m\u001b[39m and \u001b[39m\u001b[39m{\u001b[39;00my\u001b[39m.\u001b[39mshape\u001b[39m}\u001b[39;00m\u001b[39m\"\u001b[39m)\n",
      "\u001b[0;31mValueError\u001b[0m: x and y must have same first dimension, but have shapes (480002,) and (480001,)"
     ]
    },
    {
     "data": {
      "image/png": "[encoded data removed]",
      "text/plain": [
       "<Figure size 640x480 with 1 Axes>"
      ]
     },
     "metadata": {},
     "output_type": "display_data"
    }
   ],
   "source": [
    "from funciones import grafico_señal\n",
    "\n",
    "grafico_señal(data_RI1, fs_RI1, 'RI 1')\n",
    "grafico_señal(data_RI2, fs_RI2, 'RI 2')  # Revisar error dimensiones\n"
   ]
  },
  {
   "cell_type": "markdown",
   "metadata": {},
   "source": [
    "## Función de sintetización de respuesta al impulso\n",
    "\n",
    "**Consigna:** realizar una función para sintetizar una respuesta al impulso. La misma recibira como parametro el $T60$ que se desea obtener, y deberá sintetizar una respuesta al impulso considerando las frecuencias centrales de banda de octava y tercio de octava como establece la norma IEC61260 (IEC61260,1995). La siguiente ecuación define una RI, para una frecuencia central $f_{i}$:\n",
    "\n",
    "\\begin{equation}\n",
    "y_{i}=A_{i}e^{\\tau_it}\\cos(2πf_{i}t)\n",
    "\\tag{6}\n",
    "\\end{equation}\n",
    "\n",
    "donde $A_{i}$ es el coeficiente de amplitud para esa $f_{i}$(puede ser 1), y  $π_{i}$ define el decaimiento exponencial en función de $T_{60_i}$ (tiempo de reverberación) para una frecuencia $f_{i}$.\n",
    "\n",
    "\\begin{equation}\n",
    "\\tau_i=-\\frac{ln(10^{-3})}{T_{60_i}}\n",
    "\\tag{7}\n",
    "\\end{equation}\n",
    "\n",
    "La suma de varias frecuencias centrales $f_{i}$ se define como:\n",
    "\\begin{equation}\n",
    "  y=\\sum_{y=1}^{n}y_{i}\n",
    "\\tag{8}\n",
    "\\end{equation}\n",
    "\n",
    "Con $n$ la cantidad de frecuencias centrales $f_{i}$ del filtro. La funcion debe recibir el tiempo de reverberacion para cada frecuencia, y devolver la respuesta al impulso correspondiente como un archivo de audio .wav. Al momento de definir la función, buscar la forma de que la misma permita varios $T60_i$ para cada frecuencia. \n",
    "\n",
    "> Con esta funcion se busca obtener un archivo de audio de valores de $T60_i$ conocidos que permita probar el software."
   ]
  },
  {
   "cell_type": "code",
   "execution_count": 66,
   "metadata": {
    "tags": []
   },
   "outputs": [],
   "source": [
    "def sintR(T60, T, fs, A=0.1, banda=\"octava\"):\n",
    "    \"\"\"\n",
    "    Función que sintetiza una respuesta al impulso calculando la RI de cada\n",
    "    frecuencia central en bandas de octava o tercios de octava según la normativa\n",
    "    IEC-611260.\n",
    "\n",
    "    Parámetros\n",
    "    ----------\n",
    "    T : int\n",
    "        Tiempo.\n",
    "\n",
    "    fs : int\n",
    "        Frecuencia de muestreo.\n",
    "\n",
    "    A : float\n",
    "        Factor de amplificación.\n",
    "\n",
    "    banda = str\n",
    "        String que puede ser \"octava\" para bandas de octava y \"tercio\" para tercios de octava.\n",
    "\n",
    "    T60 : vector\n",
    "        Vector con los tiempos de reverberación para cada frecuencia central.\n",
    "\n",
    "    Returns\n",
    "    ----------\n",
    "    RI_sint : numpy array \n",
    "        Array con la información del impulso sintetizado.\n",
    "\n",
    "    \"\"\"\n",
    "\n",
    "    N = T*fs  # Cantidad de muestras\n",
    "    t = np.linspace(0, T, N)  # Eje x\n",
    "\n",
    "    if banda == \"octava\":\n",
    "        fc = [31.25, 62.5, 125, 250, 500, 1000, 2000, 4000, 8000, 16000]\n",
    "    elif banda == \"tercio\":\n",
    "        fc = [22.10, 44.19, 88.39, 176.8, 707.1,\n",
    "              1414, 2828, 5657, 11314, 22627]\n",
    "\n",
    "    T60 = np.array(T60)\n",
    "\n",
    "    Ylist = []\n",
    "\n",
    "    for n in range(len(T60)):\n",
    "\n",
    "        f = fc[n]\n",
    "        tao = np.log(10**(-3))/T60[n]\n",
    "        Yi = A*np.exp(tao*t)*np.cos(2*np.pi*f*t)\n",
    "        Ylist.append(Yi)\n",
    "\n",
    "    Y = sum(Ylist)\n",
    "    RI_sint = Y\n",
    "\n",
    "    sf.write('RI_sint.wav', RI_sint, fs)\n",
    "\n",
    "    return RI_sint\n"
   ]
  },
  {
   "cell_type": "markdown",
   "metadata": {},
   "source": [
    "Llamar a la función con un vector que contega varios $T60$ para las cada frecuencias centrales $f_{i}$."
   ]
  },
  {
   "cell_type": "code",
   "execution_count": 73,
   "metadata": {
    "tags": []
   },
   "outputs": [],
   "source": [
    "T60 = [1.8, 1.5, 1.2, 0.6, 0.3, 0.25, 0.20, 0.15]\n",
    "\n",
    "RI_sint = sintR(T60,5,96000)"
   ]
  },
  {
   "cell_type": "markdown",
   "metadata": {
    "tags": []
   },
   "source": [
    "Reproducir señal resultante."
   ]
  },
  {
   "cell_type": "code",
   "execution_count": 75,
   "metadata": {
    "tags": []
   },
   "outputs": [],
   "source": [
    "sd.play(RI_sint)\n",
    "sd.wait()"
   ]
  },
  {
   "cell_type": "markdown",
   "metadata": {},
   "source": [
    "Comentar sobre el resultado obtenido, ¿Es una buena aproximación? ¿Qué aspectos estamos dejando de lado en esta sintetización, que en un caso real estan presentes?."
   ]
  },
  {
   "cell_type": "markdown",
   "metadata": {
    "tags": []
   },
   "source": [
    "*completar*"
   ]
  },
  {
   "cell_type": "markdown",
   "metadata": {},
   "source": [
    "## Función obtener respuesta al impulso\n",
    "\n",
    "**Consigna:** realizar una función que permita obtener la respuesta al impulso en formato de señal de audio .wav, a partir del sinesweep logarítmico grabado y el filtro inverso generado utilizando el siguiente método: \n",
    "\n",
    "Supongamos que un recinto es excitado por una señal sinesweep logarítmica $x(t)$ y captada por un micrófono $y(t)$ y buscamos la RI del recinto $h(t)$, lo anterior se expresa de la siguiente manera:\n",
    "\n",
    "\\begin{equation}\n",
    "y(t)=x(t)*h(t)\n",
    "\\tag{9}\n",
    "\\end{equation}\n",
    "\n",
    "Para un sine sweep lineal (que no es nuestro caso) el problema es sencillo, pero en nuestro caso (sine sweep logarítmico) requiere trabajar un poco respecto $x(t)$ para obtener la siguiente expresión:\n",
    "\n",
    "\\begin{equation}\n",
    "h(t) = F^{-1}[H(jw)]=F^{-1}[Y(jw)K(jw)]\n",
    "\\tag{10}\n",
    "\\end{equation}\n",
    "\n",
    "Recordar que $k(t)$ es el filtro inverso (ecu.5) y $K(jw)$ su respectiva transformada de fourier. De esta manera se obtiene la respuesta al impulso buscada.\n",
    "\n",
    "> El desarrollo matemático de la anterior expresión se encuentra en el [Anexo I - Obtener la respuesta al impulso a partir de un sine sweep](../consigna_TP_matlab.pdf) (p.14) del instructivo para Matlab del TP."
   ]
  },
  {
   "cell_type": "code",
   "execution_count": 61,
   "metadata": {
    "tags": []
   },
   "outputs": [],
   "source": [
    "def obt_RI(sine_sweep, filtro_inverso, sine_sweep_recinto, fs=44100):\n",
    "    \"\"\"\n",
    "    Genera un impulso a través de un sinesweep logarítmico y su filtro inverso aplicado.\n",
    "\n",
    "    Parámetros\n",
    "    ----------\n",
    "    sine_sweep : str\n",
    "        Nombre del archivo de audio del sweep.\n",
    "\n",
    "    filtro_inverso : str\n",
    "        Nombre del archivo de audio del filtro inverso.\n",
    "\n",
    "    sine_sweep_recinto : str\n",
    "        Nombre del archivo de audio del sweep captado por el micrófono.\n",
    "\n",
    "    fs : int\n",
    "        Frecuencia de muestreo de las señales. 44100 por defecto.\n",
    "\n",
    "    Returns\n",
    "    -------\n",
    "    impulso : numpy array\n",
    "        Array con la información de la respuesta al impulso.\n",
    "\n",
    "    impulso.wav : wav\n",
    "        Audio con la respuesta al impulso.\n",
    "    \"\"\"\n",
    "\n",
    "    sine_sweep, fs = sf.read(sine_sweep)\n",
    "    filtro_inverso, fs = sf.read(filtro_inverso)\n",
    "    sine_sweep_recinto, fs = sf.read(sine_sweep_recinto)\n",
    "\n",
    "    k = fft(filtro_inverso)\n",
    "    y = fft(sine_sweep_recinto)\n",
    "\n",
    "    impulso = ifft((y*k))\n",
    "\n",
    "    sf.write('impulso.wav', impulso, fs)\n",
    "    return impulso\n"
   ]
  },
  {
   "cell_type": "markdown",
   "metadata": {},
   "source": [
    "Llamar a la función con un sine sweep y su respectivo filtro inverso creados con la función de la primer entrega (**no** los descargados)."
   ]
  },
  {
   "cell_type": "code",
   "execution_count": 62,
   "metadata": {
    "tags": []
   },
   "outputs": [],
   "source": [
    "# completar\n"
   ]
  },
  {
   "cell_type": "markdown",
   "metadata": {
    "tags": []
   },
   "source": [
    "Visualizar la señal con la función creada en la primer entrega."
   ]
  },
  {
   "cell_type": "code",
   "execution_count": 16,
   "metadata": {
    "tags": []
   },
   "outputs": [
    {
     "data": {
      "image/png": "[encoded data removed]",
      "text/plain": [
       "<Figure size 640x480 with 1 Axes>"
      ]
     },
     "metadata": {},
     "output_type": "display_data"
    }
   ],
   "source": [
    "grafico_señal(impulso, title='Impulso')\n"
   ]
  },
  {
   "cell_type": "markdown",
   "metadata": {
    "tags": []
   },
   "source": [
    "Reproducir señal resultante."
   ]
  },
  {
   "cell_type": "code",
   "execution_count": 19,
   "metadata": {
    "tags": []
   },
   "outputs": [],
   "source": [
    "sd.play(impulso)\n",
    "sd.wait()\n"
   ]
  },
  {
   "cell_type": "markdown",
   "metadata": {},
   "source": [
    "Comentar sobre el resultado obtenido. ¿Qué es lo que se esta escuchando? Realizar el mismo procedimiento con la señal descargada y el filtro inverso generado (para dicho sine sweep)"
   ]
  },
  {
   "cell_type": "markdown",
   "metadata": {},
   "source": [
    "*completar*"
   ]
  },
  {
   "cell_type": "markdown",
   "metadata": {},
   "source": [
    "Mencionar aspectos que diferencian los impulso generados en esta función, con los sintetizados."
   ]
  },
  {
   "cell_type": "markdown",
   "metadata": {
    "tags": []
   },
   "source": [
    "*completar*"
   ]
  },
  {
   "cell_type": "markdown",
   "metadata": {},
   "source": [
    "## Función filtros norma IEC61260\n",
    "\n",
    "**Consigna**: Realizar una función que filtre todas las señales en octavas y tercio de octava según la norma IEC61260, con el objetivo de calcular los parámetros acústicos discriminando las frecuencias. \n",
    "\n",
    "Para lo cual utilizar las funciones del modulo [signals de scipy](https://docs.scipy.org/doc/scipy/reference/signal.html). Se adjunta el código capaz de calcular los coeficientes del filtro y aplicarlos a una señal. La función debe completarse con el código necesario para que este proceso se repita para cada una de las frecuencias centrales determinadas en la norma. Así mismo, el primer argumento de la función [iirfilter](https://docs.scipy.org/doc/scipy/reference/generated/scipy.signal.iirfilter.html) determina el grado del filtro. Evaluar el valor del mismo para que la frecuencia central de la banda coincida con las especificadas en la norma.\n",
    "\n",
    "> Para ver una introducción breve a la implementación de filtros, usar el siguiente [documento](https://github.com/maxiyommi/signal-systems/blob/master/material_extra/Filtros/intro_filtros.ipynb)."
   ]
  },
  {
   "cell_type": "code",
   "execution_count": 33,
   "metadata": {},
   "outputs": [],
   "source": [
    "def filtro(archivo, rango, fc, orden=4):\n",
    "    \"\"\"\n",
    "    Aplica un filtro pasabanda a la señal de entrada, por octavas o por tercios de octava según la norma IEC61260.\n",
    "\n",
    "    Parámetros:\n",
    "    ----------\n",
    "    archivo: string\n",
    "       nombre del archivo .wav a filtrar.\n",
    "\n",
    "    rango: string\n",
    "       Pudiendo ser 1 para un filtrado por bandas de octava o 1/3 para un filtrado por tercios de octava.\n",
    "\n",
    "    fc: int\n",
    "        Frecuencia central en Hz.\n",
    "\n",
    "    orden: int\n",
    "        Orden del filtro.\n",
    "\n",
    "    Returns:\n",
    "    -------\n",
    "    lista: lista\n",
    "        Compuesta de la siguiente manera:\n",
    "        1. frecuencia central fc de la banda que fue filtrada.\n",
    "        2. array de la señal filtrada para esa fc.\n",
    "        3. respuesta en frecuencia del filtro para esa fc.\n",
    "        4. array con las frecuencias angulares.\n",
    "\n",
    "    \"\"\"\n",
    "    archivo, fs = sf.read(archivo)\n",
    "\n",
    "    if rango == 1:\n",
    "        G = 1/2\n",
    "    if rango == 1/3:\n",
    "        G = 1/6\n",
    "\n",
    "    factor = np.power(2, G)\n",
    "    fc_Hz = fc\n",
    "\n",
    "    # Extremos de la banda a partir de la frecuencia central\n",
    "\n",
    "    f1_Hz = fc_Hz/factor\n",
    "    f2_Hz = fc_Hz*factor\n",
    "\n",
    "    if f2_Hz >= (fs/2):\n",
    "        f2_Hz = (fs/2)-1\n",
    "\n",
    "    # Extracción de los coeficientes del filtro\n",
    "    b, a = signal.iirfilter(orden, [\n",
    "                            2*np.pi*f1_Hz, 2*np.pi*f2_Hz], rs=60, btype='band', analog=True, ftype='butter')\n",
    "\n",
    "    # Definición de sos para aplicar el filtro\n",
    "    sos = signal.iirfilter(orden, [f1_Hz, f2_Hz], rs=60, btype='band',\n",
    "                           analog=False, ftype='butter', fs=fs, output='sos')\n",
    "\n",
    "    # Respuesta en frecuencia\n",
    "    # w: array con las frecuencias angulares con las que h fue calculado.\n",
    "    # h: array con la respuesta en frecuencia.\n",
    "    w, h = signal.freqs(b, a)\n",
    "\n",
    "    # Aplicación del filtro al audio\n",
    "    filt = signal.sosfilt(sos, archivo)\n",
    "\n",
    "    # Salidas\n",
    "    lista = [fc_Hz, filt, h, w]\n",
    "    return lista\n"
   ]
  },
  {
   "cell_type": "markdown",
   "metadata": {},
   "source": [
    "Llamar a la función con alguna RI generada anteriormente."
   ]
  },
  {
   "cell_type": "code",
   "execution_count": 34,
   "metadata": {
    "tags": []
   },
   "outputs": [],
   "source": [
    "RI_filtrado = filtro('impulso.wav', 1, 500)\n"
   ]
  },
  {
   "cell_type": "markdown",
   "metadata": {},
   "source": [
    "Graficar el dominio espectral del resultado en una banda, utilizando el [software Audacity](https://www.audacityteam.org/) (Ayuda: [Plot Spectrum Audacity](https://manual.audacityteam.org/man/plot_spectrum.html))"
   ]
  },
  {
   "cell_type": "code",
   "execution_count": 63,
   "metadata": {
    "tags": []
   },
   "outputs": [],
   "source": [
    "# Completar\n"
   ]
  },
  {
   "cell_type": "markdown",
   "metadata": {},
   "source": [
    "¿El resultado es el esperado? ¿Cumple con los requerimientos de la normativa?"
   ]
  },
  {
   "cell_type": "markdown",
   "metadata": {},
   "source": [
    "*completar*"
   ]
  },
  {
   "cell_type": "markdown",
   "metadata": {},
   "source": [
    "## Función conversión a escala logarítmica normalizada\n",
    "Para visualizar correctamente la señal es necesario realizar una función que convierta la respuesta al impulso en escala logarítmica, utilizando la siguiente expresión:\n",
    "\n",
    "\\begin{equation}\n",
    "    R(t) = 20\\log_{10}\\frac{A(t)}{A(t)_{max}}\n",
    "\\tag{11}\n",
    "\\end{equation}\n",
    "\n",
    "Donde $A(t)$ es la señal que deseamos transformar de escala. **Consigna:** crear una función que convierta a escala logarítmica la RI que ingresa y devuelva un array con la señal resultante."
   ]
  },
  {
   "cell_type": "code",
   "execution_count": 57,
   "metadata": {},
   "outputs": [],
   "source": [
    "def escala_log(data, a=20):\n",
    "    \"\"\"\n",
    "    Modifica la información de un numpy array a escala logarítmica.\n",
    "\n",
    "    Parameters\n",
    "    ----------\n",
    "    data : numpy array\n",
    "        Array con la información a escalar.\n",
    "    a : int\n",
    "        Coeficiente de multiplicación del logaritmo, valor por defecto de 20, para escalar valores de amplitud.\n",
    "\n",
    "    Returns\n",
    "    -------\n",
    "    norm_log: numpy array \n",
    "        Audio original en escala logarítmica normalizada.\n",
    "\n",
    "    \"\"\"\n",
    "    maximo = max(abs(data))\n",
    "    norm = data/maximo  # Normalizado\n",
    "    norm_log = -a*np.log10(norm)  # Conversión\n",
    "\n",
    "    # Preguntar por el signo\n",
    "\n",
    "    return norm_log\n"
   ]
  },
  {
   "cell_type": "code",
   "execution_count": 52,
   "metadata": {},
   "outputs": [],
   "source": [
    "from funciones import ruidoRosa_voss\n",
    "\n",
    "pink_noise = ruidoRosa_voss(10)\n"
   ]
  },
  {
   "cell_type": "markdown",
   "metadata": {},
   "source": [
    "Llamar a la función con alguna de las señales generadas anteriormente."
   ]
  },
  {
   "cell_type": "code",
   "execution_count": 55,
   "metadata": {
    "tags": []
   },
   "outputs": [],
   "source": [
    "pn_log = escala_log(pink_noise)\n"
   ]
  },
  {
   "cell_type": "markdown",
   "metadata": {
    "tags": []
   },
   "source": [
    "Visualizar la señal con la función creada en la primer entrega."
   ]
  },
  {
   "cell_type": "code",
   "execution_count": 56,
   "metadata": {
    "tags": []
   },
   "outputs": [
    {
     "data": {
      "image/png": "[encoded data removed]",
      "text/plain": [
       "<Figure size 640x480 with 1 Axes>"
      ]
     },
     "metadata": {},
     "output_type": "display_data"
    }
   ],
   "source": [
    "grafico_señal(pn_log)\n"
   ]
  }
 ],
 "metadata": {
  "kernelspec": {
   "display_name": "Python 3.10.7 64-bit",
   "language": "python",
   "name": "python3"
  },
  "language_info": {
   "codemirror_mode": {
    "name": "ipython",
    "version": 3
   },
   "file_extension": ".py",
   "mimetype": "text/x-python",
   "name": "python",
   "nbconvert_exporter": "python",
   "pygments_lexer": "ipython3",
   "version": "3.10.7"
  },
  "vscode": {
   "interpreter": {
    "hash": "e7370f93d1d0cde622a1f8e1c04877d8463912d04d973331ad4851f04de6915a"
   }
  }
 },
 "nbformat": 4,
 "nbformat_minor": 4
}
