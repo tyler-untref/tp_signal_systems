{
 "cells": [
  {
   "cell_type": "markdown",
   "metadata": {},
   "source": [
    "# Trabajo Practico - Desarrollo de software para el cálculo de parámetros acústicos ISO 3382 (1er entrega)\n",
    "\n",
    "## Fecha de entrega"
   ]
  },
  {
   "cell_type": "markdown",
   "metadata": {},
   "source": [
    "*26/09/2022*"
   ]
  },
  {
   "cell_type": "markdown",
   "metadata": {
    "tags": []
   },
   "source": [
    "## Integrantes"
   ]
  },
  {
   "cell_type": "markdown",
   "metadata": {},
   "source": [
    "* <Tyler, Cruz>\n",
    "* <Santiago, Franco>\n",
    "* <Felipe, Merlo>"
   ]
  },
  {
   "cell_type": "markdown",
   "metadata": {},
   "source": [
    "## Aspectos generales del notebook\n",
    "\n",
    "* Todas las funciones deben contar con su [docstring](https://realpython.com/documenting-python-code/#docstring-types), como figura en la funcion de ejemplo (`ruidoRosa_voss`).\n",
    "* Todos los gráficos deben tener correctamente etiquetados los ejes.\n",
    "* Enviar el notebook (.ipynb) completado y con las celdas ejecutas a myommi@untref.edu.ar.\n",
    "* Todas las señales de audio deben ser grabadas en formato .wav en la misma función que las genera."
   ]
  },
  {
   "cell_type": "markdown",
   "metadata": {},
   "source": [
    "## Librerias utilizadas\n",
    "Agregar todas las librerias utilizadas, algunas a modo de ejemplo:"
   ]
  },
  {
   "cell_type": "code",
   "execution_count": null,
   "metadata": {},
   "outputs": [],
   "source": [
    "import numpy as np\n",
    "import pandas as pd\n",
    "import matplotlib.pyplot as plt\n",
    "import math\n",
    "import soundfile as sf \n",
    "import sounddevice as sd\n",
    "from scipy import signal\n",
    "from time import localtime, strftime\n",
    "import timeit"
   ]
  },
  {
   "cell_type": "markdown",
   "metadata": {},
   "source": [
    "## Función de sintetización de ruido rosa\n",
    "El ruido rosa o ruido $\\frac{1}{\\sqrt{f}}$ , dónde $f$ denota frecuencia en Hz, es un ruido con una distribución de frecuencias tal que su densidad espectral de potencia es proporcional a la inversa de la frecuencia. Esto implica que su nivel, por bandas de tercio de octava, es constante. El nivel del ruido rosa por intervalo fijo de frecuencias va decayendo a razón de 3 dB/octava, de forma no lineal aunque las frecuencias se representan en un eje lineal.\n",
    "\n",
    "![Espectro del ruido rosa](../img/image44.png)\n",
    "<center><b>Fig 1.</b> Espectro del ruido rosa.</center>\n",
    "\n",
    "Se adjunta a continuación una función que devuelva un ruido rosa sintetizado a partir del algoritmo de Voss y Clarke (pueden encontrar mas informacion en [este enlace](https://www.dsprelated.com/showabstract/3933.php) y en [este notebook](https://github.com/AllenDowney/ThinkDSP/blob/master/code/voss.ipynb)). \n",
    "\n",
    "**Consigna:** modificar la función original para que reciba como parametro la duración del ruido en segundos $t$ y como parametro opcional la frecuencia de muestreo $fs$ (Ayuda: la longitud de la señal sera el producto entre ambos). La función debe guardar el archivo de audio .wav de la señal generada y devolver el vector de datos de la señal."
   ]
  },
  {
   "cell_type": "code",
   "execution_count": null,
   "metadata": {},
   "outputs": [],
   "source": [
    "def ruidoRosa_voss(t, ncols=16, fs=44100): ## Explorar otros valores de ncols, ej:4 o 32.\n",
    "    \"\"\"\n",
    "    Genera ruido rosa utilizando el algoritmo de Voss-McCartney (https://www.dsprelated.com/showabstract/3933.php).\n",
    "    \n",
    "    .. Nota:: si 'ruido_rosa.wav' existe, este será sobreescrito.\n",
    "    \n",
    "    Parametros\n",
    "    ----------\n",
    "    t : float\n",
    "        Valor temporal en segundos, este determina la duración del ruido generado.\n",
    "    ncols: int\n",
    "        Determina el número de fuentes a aleatorias a agregar.\n",
    "    fs: int\n",
    "        Frecuencia de muestreo en Hz de la señal. Por defecto el valor es 44100 Hz.\n",
    "    \n",
    "    returns: NumPy array\n",
    "        Datos de la señal generada.\n",
    "    \n",
    "    Ejemplo\n",
    "    -------\n",
    "    Generar un `.wav` desde un numpy array de 10 segundos con ruido rosa a una \n",
    "    frecuencia de muestreo de 44100 Hz.\n",
    "    \n",
    "        import numpy as np\n",
    "        import pandas as pd\n",
    "        import soundfile as sf\n",
    "        \n",
    "        ruidoRosa_voss(10)\n",
    "    \"\"\"\n",
    "    # Cálculo de cantidad de muestras\n",
    "    cant_muestras = fs*t\n",
    "    nrows = cant_muestras\n",
    "\n",
    "    # Cálculo de arrays\n",
    "    array = np.full((nrows, ncols), np.nan)\n",
    "    array[0, :] = np.random.random(ncols)\n",
    "    array[:, 0] = np.random.random(nrows)\n",
    "\n",
    "    # El número total de cambios es nrows\n",
    "    n = nrows\n",
    "    cols = np.random.geometric(0.5, n)\n",
    "    cols[cols >= ncols] = 0\n",
    "    rows = np.random.randint(nrows, size=n)\n",
    "    array[rows, cols] = np.random.random(n)\n",
    "\n",
    "    df = pd.DataFrame(array)\n",
    "    filled = df.fillna(method='ffill', axis=0)\n",
    "    total = filled.sum(axis=1)\n",
    "\n",
    "    # Centrado del array en 0\n",
    "    total = total - total.mean()\n",
    "\n",
    "    # Normalizado\n",
    "    valor_max = max(abs(max(total)), abs(min(total)))\n",
    "    total = total / valor_max\n",
    "\n",
    "    # Generación de archivo de audio .wav\n",
    "    sf.write('ruido_rosa.wav', total, fs)\n",
    "\n",
    "    return total"
   ]
  },
  {
   "cell_type": "markdown",
   "metadata": {},
   "source": [
    "Ejemplo\n",
    "    Generar un `.wav` desde un numpy array de 10 segundos con ruido rosa a una \n",
    "    frecuencia de muestreo de 44100 Hz."
   ]
  },
  {
   "cell_type": "code",
   "execution_count": null,
   "metadata": {
    "tags": []
   },
   "outputs": [],
   "source": [
    "ruido_rosa = ruidoRosa_voss(10)"
   ]
  },
  {
   "cell_type": "markdown",
   "metadata": {
    "tags": []
   },
   "source": [
    "Realizar una función para visualizar el dominio temporal de la señal."
   ]
  },
  {
   "cell_type": "code",
   "execution_count": null,
   "metadata": {
    "tags": []
   },
   "outputs": [],
   "source": [
    "def grafico_señal(data,fs=44100,title=None):\n",
    "    \"\"\"\n",
    "    Grafica el dominio temporal de una señal.\n",
    "    \n",
    "    Parametros\n",
    "    ----------\n",
    "    data : array\n",
    "        Array de amplitud de la señal a graficar.\n",
    "    fs: int\n",
    "        Frecuencia de muestreo en Hz de la señal. Por defecto el valor es 44100 Hz.\n",
    "    title:\n",
    "        Título del gráfico. Por defecto no tiene.\n",
    "\n",
    "    returns: Gráfico de la señal.\n",
    "\n",
    "    Ejemplo\n",
    "    -------\n",
    "    Generar un gráfico desde una señal de ruido rosa a una \n",
    "    frecuencia de muestreo de 44100 Hz.\n",
    "    \n",
    "        import numpy as np\n",
    "        import matplotlib.pyplot as plt\n",
    "        \n",
    "        grafico_señal(ruido_rosa)\n",
    "    \"\"\"\n",
    "\n",
    "    # Eje x: tiempo\n",
    "    x = np.arange(0,len(data)/fs,1/fs)\n",
    "    plt.xlabel('Tiempo [s]')\n",
    "    \n",
    "    # Eje y: amplitud normalizada\n",
    "    y = data\n",
    "    plt.ylabel('Amplitud')\n",
    "    \n",
    "    plt.title(title)\n",
    "    plt.plot(x,y,'-')\n",
    "    \n",
    "    return plt.show()"
   ]
  },
  {
   "cell_type": "markdown",
   "metadata": {},
   "source": [
    "Llamar a la función."
   ]
  },
  {
   "cell_type": "code",
   "execution_count": null,
   "metadata": {},
   "outputs": [],
   "source": [
    "grafico_señal(ruido_rosa,title='Dominio temporal - Ruido rosa')"
   ]
  },
  {
   "cell_type": "markdown",
   "metadata": {},
   "source": [
    "Graficar el dominio espectral del resultado utilizando el [software Audacity](https://www.audacityteam.org/) (Ayuda: [Plot Spectrum Audacity](https://manual.audacityteam.org/man/plot_spectrum.html))"
   ]
  },
  {
   "cell_type": "code",
   "execution_count": null,
   "metadata": {
    "tags": []
   },
   "outputs": [],
   "source": [
    "pn_spectrum = pd.read_csv('./pinknoise_spectrum.txt',delimiter='\\t') # Lee el archivo de texto generado en Audacity\n",
    "\n",
    "# Eje x: frecuencia\n",
    "x = pn_spectrum['Frequency (Hz)'] # Accede a la columna de frecuencias\n",
    "plt.xlabel('Frecuencia (Hz)')\n",
    "    \n",
    "# Eje y: nivel (dB)\n",
    "y = pn_spectrum['Level (dB)'] # Accede a la columna de amplitud\n",
    "plt.ylabel('Amplitud normalizada (dB)')\n",
    "    \n",
    "plt.title('Espectro del ruido rosa')\n",
    "plt.semilogx(x, y)\n",
    "plt.show()"
   ]
  },
  {
   "cell_type": "markdown",
   "metadata": {},
   "source": [
    "Reproducir resultado."
   ]
  },
  {
   "cell_type": "code",
   "execution_count": null,
   "metadata": {
    "tags": []
   },
   "outputs": [],
   "source": [
    "sd.play(ruido_rosa)\n",
    "sd.wait()"
   ]
  },
  {
   "cell_type": "markdown",
   "metadata": {},
   "source": [
    "## Funcion de generación de sine sweep logaritmico + filtro inverso\n",
    "El sine sweep es el método más indicado para generar el impulso por medio de la convolución (Nikolić, I., and O. H. Bjor, 2003). Dado que métodos tales como: explosión de globo, aplauso, disparo con pistola se salva, paper gun ([Paper Popper](https://en.wikipedia.org/wiki/Paper_popper)), golpe entre maderas, petardos, entre otros, carecen de reproducibilidad. Esto es debido a su nivel sonoro, duración y características espectrales, además de una muy baja relación señal ruido, la cual difícilmente se solucione filtrando o promediando con muchas mediciones. Comencemos por ver cómo generar el sine sweep logarítmico $x(t)$ que posee la siguiente forma:\n",
    "\n",
    "\\begin{equation}\n",
    "f(x) = \\sin[\\theta(t)]= \\sin[K (e^\\frac{t}{L} - 1) ]\n",
    "\\tag{1}\n",
    "\\end{equation}\n",
    "\n",
    "Donde:\n",
    "\n",
    "\\begin{equation}\n",
    "K = \\frac{T w_{1}}{R}\n",
    "\\end{equation}\n",
    "\n",
    "\\begin{equation}\n",
    "L = \\frac{T}{R}\n",
    "\\end{equation}\n",
    "\n",
    "y el sweep rate $R$: \n",
    "\n",
    "\\begin{equation}\n",
    "R = \\ln \\left( \\frac{w_{2}}{w_{1}} \\right)\n",
    "\\tag{2}\n",
    "\\end{equation}\n",
    "\n",
    "Con $w_{1}$ y $w_{2}$, las frecuencias angulares inferior y superior respectivamente, $T$ es el tiempo de duración del sine sweep en segundos (Meng, Q., 2008). Si estudiamos el espectro de la señal de la ecuación (1), se observa que no es plano, sino que disminuye a razón de -3 dB/octava, como el ruido rosa (Ver fig. 2, sup). De modo que el espectro de $x(-t)$ debe ser ajustado, aumentando en 3 dB/octava, de modo que cuando realizamos el cálculo se restaure la plenitud perfecta de la respuesta de impulso medida $h(t)$ (Farina A., 2000) (Ver fig. 2, inf).\n",
    "\n",
    "![](../img/image43.png)\n",
    "<center><b>Fig 2.</b> Espectro del sine sweep. Sine sweep logarítmico  (sup). Filtro invertido (inf).</center>\n",
    "\n",
    "\n",
    "En el dominio temporal las señales del sine sweep logarítmico y el filtro inverso se comportan de la siguiente manera (Ver fig. 3). \n",
    "\n",
    "![](../img/image46.png)\n",
    "<center><b>Fig 3.</b> Magnitud del sine sweep. Sine sweep logarítmico (sup). Filtro invertido (inf).</center>"
   ]
  },
  {
   "cell_type": "markdown",
   "metadata": {},
   "source": [
    "Para generar el filtro inverso $k(t)$ del sine sweep logarítmico $x(t)$ se requiere de una modulación $m(t)$ definida por la siguiente expresión:\n",
    "\n",
    "\\begin{equation}\n",
    "m(t) = \\frac{w_{1}}{2\\pi w(t)}\n",
    "\\tag{3}\n",
    "\\end{equation}\n",
    "\n",
    "Obtenida de la frecuencia instantánea (dado que la amplitud cambia en función de la\n",
    "frecuencia), calculada a partir de la ecuación (1):\n",
    "\n",
    "\\begin{equation}\n",
    "w(t)=\\frac{d[\\theta (t)]}{dt}=\\frac{K}{L} e^\\frac{t}{L}\n",
    "\\tag{4}\n",
    "\\end{equation}\n",
    "m\n",
    "entonces, el filtro inverso $k(t)$ queda definido como:\n",
    "\n",
    "\\begin{equation}\n",
    "k(t)=m(t)x(-t)\n",
    "\\tag{5}\n",
    "\\end{equation}\n",
    "\n",
    "**Consigna:** realizar una función generadora de un sine sweep y su filtro inverso, a partir de las ecuaciones descriptas anteriormente, y graficar el resultado de ambos filtros, usando la función anteriormente creada. Recordar almacenar los audios. Agregar docstring que indique claramente los parametros de entrada y salida."
   ]
  },
  {
   "cell_type": "code",
   "execution_count": null,
   "metadata": {
    "tags": []
   },
   "outputs": [],
   "source": [
    "def ss_fi(T,f1,f2,fs=44100):\n",
    "    \"\"\"\n",
    "    Genera un Sine Sweep y su filtro inverso utilizando las ecuaciones de Meng, Q.\n",
    "\n",
    "    .. Nota:: si 'sine_sweep.wav' y/o 'filtro_inverso.wav' existen, serán sobreescritos.\n",
    "    \n",
    "    Parametros\n",
    "    ----------\n",
    "    T : int\n",
    "        Valor temporal en segundos, este determina la duración del audio generado.\n",
    "    f1: int\n",
    "        Frencuancia inferior en Hz.\n",
    "    f2: int\n",
    "        Frencuancia superior en Hz.\n",
    "    fs: int\n",
    "        Frecuencia de muestreo en Hz de la señal. Por defecto el valor es 44100 Hz.\n",
    "    \n",
    "    returns: NumPy array\n",
    "        Datos de las señales generadas.\n",
    "    \n",
    "    Ejemplo\n",
    "    -------\n",
    "    Generar dos `.wav` desde un numpy array de 10 segundos con sine sweep y su filtro inverso a una \n",
    "    frecuencia de muestreo de 44100 Hz.\n",
    "    \n",
    "        import numpy as np\n",
    "        import math\n",
    "        import soundfile as sf\n",
    "        \n",
    "        ss_fi(10,20,20000)\n",
    "    \"\"\"\n",
    "\n",
    "    # Definición del sine sweep\n",
    "    w1 = 2*math.pi*f1\n",
    "    w2 = 2*math.pi*f2\n",
    "    R = np.log(w2/w1)\n",
    "    K = (T*w1)/R\n",
    "    L = T/R\n",
    "    t = np.arange(0,T,1/fs)\n",
    "\n",
    "    sine_sweep = np.sin(K*((np.exp(t/L))-1))\n",
    "\n",
    "    # Definición del filtro inverso\n",
    "    w = (K/L)*(math.e**(t/L))\n",
    "    m = w1/(2*math.pi*w)\n",
    "    t2 = np.flip(t)\n",
    "    ss2 = np.sin(K*((np.exp(t2/L))-1))\n",
    "\n",
    "    filtro_inverso = m*ss2\n",
    "\n",
    "    # Generación de archivos de audio .wav\n",
    "    sf.write('sine_sweep.wav', sine_sweep, fs)\n",
    "    sf.write('filtro_inverso.wav',filtro_inverso, fs)\n",
    "\n",
    "    return sine_sweep, filtro_inverso"
   ]
  },
  {
   "cell_type": "markdown",
   "metadata": {
    "tags": []
   },
   "source": [
    "Llamar la función."
   ]
  },
  {
   "cell_type": "code",
   "execution_count": null,
   "metadata": {
    "tags": []
   },
   "outputs": [],
   "source": [
    "ss,fi = ss_fi(10,20,20000)"
   ]
  },
  {
   "cell_type": "markdown",
   "metadata": {},
   "source": [
    "Graficar el dominio espectral del resultado utilizando el [software Audacity](https://www.audacityteam.org/) (Ayuda: [Plot Spectrum Audacity](https://manual.audacityteam.org/man/plot_spectrum.html))"
   ]
  },
  {
   "cell_type": "code",
   "execution_count": null,
   "metadata": {},
   "outputs": [],
   "source": [
    "ss_spectrum = pd.read_csv('./sine_sweep_spectrum.txt',delimiter='\\t') # Lee el archivo de texto generado en Audacity\n",
    "\n",
    "# Eje x: frecuencia\n",
    "x1 = ss_spectrum['Frequency (Hz)'] # Accede a la columna de frecuencias\n",
    "# Eje y: nivel (dB)\n",
    "y1 = ss_spectrum['Level (dB)'] # Accede a la columna de amplitud\n",
    "\n",
    "fi_spectrum = pd.read_csv('./filtro_inverso_spectrum.txt',delimiter='\\t') # Lee el archivo de texto generado en Audacity\n",
    "\n",
    "# Eje x: frecuencia\n",
    "x2 = fi_spectrum['Frequency (Hz)'] # Accede a la columna de frecuencias\n",
    "# Eje y: nivel (dB)\n",
    "y2 = fi_spectrum['Level (dB)'] # Accede a la columna de amplitud\n",
    "\n",
    "fig, (ax1,ax2) = plt.subplots(2,1,sharex=True)\n",
    "ax1.semilogx(x1,y1) # Gráfico del Sine Sweep\n",
    "ax1.set_title('Espectro del Sine Sweep')\n",
    "ax2.semilogx(x2,y2) # Gráfico del Filtro Inverso\n",
    "ax2.set_title('Espectro del Filtro inverso')\n",
    "fig.text(0.5,0.008,'Frecuencia (Hz)', ha='center')\n",
    "fig.text(0.008,0.5,'Amplitud (dB)', va='center', rotation='vertical')\n",
    "plt.show()"
   ]
  },
  {
   "cell_type": "markdown",
   "metadata": {},
   "source": [
    "Gŕafico del dominio temporal"
   ]
  },
  {
   "cell_type": "code",
   "execution_count": null,
   "metadata": {},
   "outputs": [],
   "source": [
    "grafico_señal(ss, title='Sine sweep')\n",
    "grafico_señal(fi,title='Filtro inverso')"
   ]
  },
  {
   "cell_type": "markdown",
   "metadata": {},
   "source": [
    "Reproducir resultados."
   ]
  },
  {
   "cell_type": "code",
   "execution_count": null,
   "metadata": {
    "tags": []
   },
   "outputs": [],
   "source": [
    "# Reproducir sine sweep\n",
    "sd.play(ss)\n",
    "sd.wait()\n",
    "\n",
    "# Reproducir filtro inverso\n",
    "sd.play(fi)\n",
    "sd.wait()"
   ]
  },
  {
   "cell_type": "markdown",
   "metadata": {},
   "source": [
    "Prueba de convolución (sine sweep y filtro inverso)"
   ]
  },
  {
   "cell_type": "code",
   "execution_count": null,
   "metadata": {},
   "outputs": [],
   "source": [
    "# Convolución sine sweep y filtro inverso\n",
    "convol = signal.fftconvolve(ss, fi, mode='full', axes=None)\n",
    "# Generación de .wav\n",
    "sf.write('convol.wav',convol,44100)"
   ]
  },
  {
   "cell_type": "markdown",
   "metadata": {},
   "source": [
    "## Función adquisicion y reproducción\n",
    "**Consigna**: la función tiene que permitir la reproducción y la adquisición de manera simultánea para un tiempo determinado por el usuario. Es importante evaluar y constatar dicha simultaneidad. El módulo debería permitir seleccionar el hardware a utilizar. Algunos articulos de interes para el desarrollo:\n",
    "* [Clase de audio](../../clases/clase_6/600_audio.ipynb)\n",
    "* [Sound Device - Simultaneous Playback and Recording](https://python-sounddevice.readthedocs.io/en/0.4.1/usage.html#simultaneous-playback-and-recording)\n",
    "* [Playing and Recording Sound in Python](https://realpython.com/playing-and-recording-sound-python/)\n",
    "* [Audio in Python](https://wiki.python.org/moin/Audio/)\n",
    "* [https://github.com/spatialaudio/python-sounddevice/issues/148](https://github.com/spatialaudio/python-sounddevice/issues/148)"
   ]
  },
  {
   "cell_type": "code",
   "execution_count": null,
   "metadata": {},
   "outputs": [],
   "source": [
    "def play_rec(filename, duration=None, end_delay=None, play_device_id=None, rec_device_id=None):\n",
    "    \"\"\"\n",
    "    Reproduce un audio seleccionado y graba simultáneamente, según los dispositivos de audio elegidos. La grabación será guaradada en un archivo con el nombre 'recording' seguido de la fecha y hora local.\n",
    "\n",
    "    Parametros\n",
    "    ----------\n",
    "    filename : str\n",
    "        Nombre del archivo de audio a reproducir.\n",
    "    duration(opcional): int\n",
    "        Duración de la reproducción y adquisición, en segundos. Si no se elige una duración, la duración por defecto de la grabación y reproducción será igual a la duración del audio a reproducir.\n",
    "    end_delay(opcional): int\n",
    "        Delay en segundos, entre que se detiene la reproducción del audio y se termina la grabación. Si no se elige un tiempo de delay, la grabación terminará al mismo tiempo que se termine de reproducir el audio.\n",
    "    play_device_id(opcional): int\n",
    "        Número de ID del dispositivo de audio elegido para reproducir. Si no se indica en el argumento de la función, será solicitado al momento de correr la misma.\n",
    "    rec_device_id(opcional): int\n",
    "        Número de ID del dispositivo de audio elegido para grabar. Si no se indica en el argumento de la función, será solicitado al momento de correr la misma.\n",
    "\n",
    "    .. Nota:: Si la duración elegida es mayor que el tiempo del audio a reproducir, el audio terminará de reproducirse y la función seguirá grabando hasta el tiempo indicado. Si la duración elegida es menor a la duración del audio a reproducir, la reproducción y la grabación se detendrán en el tiempo indicado.\n",
    "\n",
    "    returns: NumPy array\n",
    "        Datos del audio grabado.\n",
    "    \"\"\"\n",
    "\n",
    "    # Ingresar nombre del archivo de audio a reproducir\n",
    "    if filename == False:\n",
    "        filename = input('Ingrese el nombre del archivo de audio .wav a reproducir: ') + '.wav'\n",
    "\n",
    "    # Extraer datos del archivo de audio\n",
    "    playdata, fs = sf.read(filename, dtype='float32')\n",
    "    print('Playdata type = ' + str(type(playdata)))\n",
    "    play_samples = int(len(playdata))  # Cantidad de muestras del archivo de audio cargado\n",
    "    print('Play samples = ' + str(play_samples))\n",
    "    play_time = play_samples/fs  # Duración original del archivo de audio cargado\n",
    "\n",
    "    # Definir duración de la función\n",
    "    duration_samples = int(duration * fs)  # Cantidad de muestras necesarias para la duración requerida\n",
    "    print('Duration samples = ' + str(duration_samples))\n",
    "    print('Duration samples type = ' + str(type(duration_samples)))\n",
    "    end_delay_samples = int(end_delay * fs)  # Cantidad de muestras necesarias para el delay requerido\n",
    "    print('End_delay samples = ' + str(end_delay_samples))\n",
    "    end_delay_array = np.zeros(end_delay_samples)\n",
    "    print('End delay array = ' + str(type(end_delay_array)))\n",
    "    if duration < play_time and end_delay == None:\n",
    "        playdata = playdata[:duration_samples]\n",
    "    elif duration < play_time and end_delay != None:\n",
    "        playdata = np.concatenate([playdata[:duration_samples], end_delay_array])\n",
    "    elif duration > play_time and end_delay == None:\n",
    "        playdata = np.concatenate([playdata, np.zeros(duration_samples - play_samples)])\n",
    "    elif duration > play_time and end_delay != None:\n",
    "        playdata = np.concatenate([playdata, np.zeros(duration_samples - play_samples), end_delay_array])\n",
    "\n",
    "    # Elegir dispositivo de reproducción y grabación\n",
    "    if play_device_id or rec_device_id == None:\n",
    "        print('Listado de dispositivos de audio disponibles:\\n')\n",
    "        print(sd.query_devices())\n",
    "\n",
    "    if play_device_id == None:\n",
    "        play_device_id = int(\n",
    "            input('Ingrese el número de la lista del dispositivo que desea utilizar para reproducir: '))\n",
    "\n",
    "    if rec_device_id == None:\n",
    "        rec_device_id = int(input('Ingrese el número de la lista del dispositivo que desea utilizar para grabar: '))\n",
    "\n",
    "    # Establcer valores por defecto de la función\n",
    "    sd.default.samplerate = fs\n",
    "    sd.default.device = rec_device_id, play_device_id\n",
    "    sd.default.channels = 1\n",
    "    if duration == None:\n",
    "        duration = playdata/fs\n",
    "\n",
    "    # Reproducción y adquisición\n",
    "    recording = sd.playrec(playdata)\n",
    "    sd.wait()\n",
    "    fecha_hora = strftime('%Y-%m-%d   %Hh-%Mm-%Ss', localtime())\n",
    "    sf.write('recording ' + fecha_hora + '.wav', recording, fs)\n",
    "\n",
    "    return recording, duration, end_delay"
   ]
  },
  {
   "cell_type": "markdown",
   "metadata": {
    "tags": []
   },
   "source": [
    "Llamar la función."
   ]
  },
  {
   "cell_type": "code",
   "execution_count": null,
   "metadata": {
    "tags": []
   },
   "outputs": [],
   "source": [
    "play_rec('ruido_rosa.wav',10,2,0,32)"
   ]
  },
  {
   "cell_type": "markdown",
   "metadata": {},
   "source": [
    "¿Cómo se podría medir la latencia de la función?"
   ]
  },
  {
   "cell_type": "code",
   "execution_count": null,
   "metadata": {},
   "outputs": [],
   "source": [
    "start_time = timeit.default_timer()\n",
    "play_rec('ruido_rosa.wav', 10, 2, 0, 32)\n",
    "duracion = timeit.default_timer() - start_time\n",
    "\n",
    "# La latencia de la función es la duración de ejecución menos el tiempo de grabación\n",
    "latencia = duracion-10-2\n",
    "print(f'La latencia de la función es de {latencia} segundos')"
   ]
  }
 ],
 "metadata": {
  "kernelspec": {
   "display_name": "Python 3.10.6 64-bit",
   "language": "python",
   "name": "python3"
  },
  "language_info": {
   "codemirror_mode": {
    "name": "ipython",
    "version": 3
   },
   "file_extension": ".py",
   "mimetype": "text/x-python",
   "name": "python",
   "nbconvert_exporter": "python",
   "pygments_lexer": "ipython3",
   "version": "3.10.7"
  },
  "vscode": {
   "interpreter": {
    "hash": "e7370f93d1d0cde622a1f8e1c04877d8463912d04d973331ad4851f04de6915a"
   }
  }
 },
 "nbformat": 4,
 "nbformat_minor": 4
}
